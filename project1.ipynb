{
 "cells": [
  {
   "cell_type": "code",
   "execution_count": 1,
   "metadata": {},
   "outputs": [],
   "source": [
    "# library\n",
    "# standard library\n",
    "import os\n",
    " \n",
    "# third-party library\n",
    "import torch\n",
    "import torch.nn as nn\n",
    "from torch.autograd import Variable\n",
    "import torch.utils.data as Data\n",
    "import torchvision\n",
    "import matplotlib.pyplot as plt"
   ]
  },
  {
   "cell_type": "code",
   "execution_count": 2,
   "metadata": {},
   "outputs": [],
   "source": [
    "import dlc_practical_prologue as helper"
   ]
  },
  {
   "cell_type": "code",
   "execution_count": 3,
   "metadata": {},
   "outputs": [
    {
     "name": "stdout",
     "output_type": "stream",
     "text": [
      "Downloading http://yann.lecun.com/exdb/mnist/train-images-idx3-ubyte.gz\n",
      "Downloading http://yann.lecun.com/exdb/mnist/train-labels-idx1-ubyte.gz\n",
      "Downloading http://yann.lecun.com/exdb/mnist/t10k-images-idx3-ubyte.gz\n",
      "Downloading http://yann.lecun.com/exdb/mnist/t10k-labels-idx1-ubyte.gz\n",
      "Processing...\n",
      "Done!\n"
     ]
    }
   ],
   "source": [
    "train_input, train_target, train_classes, test_input, test_target, test_classes = helper.generate_pair_sets(1000)"
   ]
  },
  {
   "cell_type": "code",
   "execution_count": 4,
   "metadata": {},
   "outputs": [
    {
     "name": "stdout",
     "output_type": "stream",
     "text": [
      "CNN(\n",
      "  (conv1): Sequential(\n",
      "    (0): Conv2d(1, 16, kernel_size=(3, 3), stride=(1, 1))\n",
      "    (1): ReLU()\n",
      "    (2): MaxPool2d(kernel_size=3, stride=3, padding=0, dilation=1, ceil_mode=False)\n",
      "  )\n",
      "  (conv2): Sequential(\n",
      "    (0): Conv2d(16, 32, kernel_size=(3, 3), stride=(1, 1), padding=(1, 1))\n",
      "    (1): ReLU()\n",
      "    (2): MaxPool2d(kernel_size=2, stride=2, padding=0, dilation=1, ceil_mode=False)\n",
      "  )\n",
      "  (out): Linear(in_features=128, out_features=10, bias=True)\n",
      ")\n"
     ]
    }
   ],
   "source": [
    "class CNN(nn.Module):\n",
    "    def __init__(self):\n",
    "        super(CNN, self).__init__()\n",
    "        self.conv1 = nn.Sequential(         # input shape (1, 28, 28)\n",
    "            nn.Conv2d(\n",
    "                in_channels=1,              # input height\n",
    "                out_channels=16,            # n_filters\n",
    "                kernel_size=3,              # filter size\n",
    "                stride=1                   # filter movement/step\n",
    "                              # if want same width and length of this image after con2d, padding=(kernel_size-1)/2 if stride=1\n",
    "            ),                              # output shape (16, 28, 28)\n",
    "            nn.ReLU(),                      # activation\n",
    "            nn.MaxPool2d(kernel_size=3),    # choose max value in 2x2 area, output shape (16, 14, 14)\n",
    "        )\n",
    "        self.conv2 = nn.Sequential(         # input shape (16, 14, 14)\n",
    "            nn.Conv2d(16, 32, 3 , 1, 1),     # output shape (32, 14, 14)\n",
    "            nn.ReLU(),                      # activation\n",
    "            nn.MaxPool2d(2),                # output shape (32, 7, 7)\n",
    "        )\n",
    "        self.out = nn.Linear(32 * 2 * 2, 10)   # fully connected layer, output 10 classes\n",
    " \n",
    "    def forward(self, x):\n",
    "        x = self.conv1(x)\n",
    "        x = self.conv2(x)\n",
    "        x = x.view(x.size(0), -1) \n",
    "        output = self.out(x)\n",
    "        return output, x    # return x for visualization  \n",
    "cnn = CNN()\n",
    "print(cnn)  # net architecture"
   ]
  },
  {
   "cell_type": "markdown",
   "metadata": {},
   "source": [
    "# Training\n"
   ]
  },
  {
   "cell_type": "code",
   "execution_count": 24,
   "metadata": {
    "scrolled": false
   },
   "outputs": [
    {
     "name": "stdout",
     "output_type": "stream",
     "text": [
      "Epoch:  0 | train loss: 0.1083 | train accuracy: 0.97 | test accuracy: 0.90\n",
      "Epoch:  1 | train loss: 0.0779 | train accuracy: 0.97 | test accuracy: 0.90\n",
      "Epoch:  2 | train loss: 0.0720 | train accuracy: 0.97 | test accuracy: 0.94\n",
      "Epoch:  3 | train loss: 0.0407 | train accuracy: 0.98 | test accuracy: 0.90\n",
      "Epoch:  4 | train loss: 0.0097 | train accuracy: 1.00 | test accuracy: 0.91\n",
      "Epoch:  5 | train loss: 0.3337 | train accuracy: 0.90 | test accuracy: 0.94\n",
      "Epoch:  6 | train loss: 0.0388 | train accuracy: 0.98 | test accuracy: 0.95\n",
      "Epoch:  7 | train loss: 0.0417 | train accuracy: 0.99 | test accuracy: 0.95\n",
      "Epoch:  8 | train loss: 0.0002 | train accuracy: 1.00 | test accuracy: 0.93\n",
      "Epoch:  9 | train loss: 0.0015 | train accuracy: 1.00 | test accuracy: 0.93\n",
      "Epoch:  10 | train loss: 0.0001 | train accuracy: 1.00 | test accuracy: 0.93\n",
      "Epoch:  11 | train loss: 0.0000 | train accuracy: 1.00 | test accuracy: 0.96\n",
      "Epoch:  12 | train loss: 0.0001 | train accuracy: 1.00 | test accuracy: 0.96\n",
      "Epoch:  13 | train loss: 0.0000 | train accuracy: 1.00 | test accuracy: 0.96\n",
      "Epoch:  14 | train loss: 0.0000 | train accuracy: 1.00 | test accuracy: 0.96\n",
      "Epoch:  15 | train loss: 0.0000 | train accuracy: 1.00 | test accuracy: 0.96\n",
      "Epoch:  16 | train loss: 0.0000 | train accuracy: 1.00 | test accuracy: 0.96\n",
      "Epoch:  17 | train loss: 0.0000 | train accuracy: 1.00 | test accuracy: 0.96\n",
      "Epoch:  18 | train loss: 0.0000 | train accuracy: 1.00 | test accuracy: 0.95\n",
      "Epoch:  19 | train loss: 0.0000 | train accuracy: 1.00 | test accuracy: 0.96\n",
      "Epoch:  20 | train loss: 0.0000 | train accuracy: 1.00 | test accuracy: 0.96\n",
      "Epoch:  21 | train loss: 0.0000 | train accuracy: 1.00 | test accuracy: 0.96\n",
      "Epoch:  22 | train loss: 0.0000 | train accuracy: 1.00 | test accuracy: 0.96\n",
      "Epoch:  23 | train loss: 0.0000 | train accuracy: 1.00 | test accuracy: 0.96\n",
      "Epoch:  24 | train loss: 0.0000 | train accuracy: 1.00 | test accuracy: 0.96\n",
      "Epoch:  25 | train loss: 0.0000 | train accuracy: 1.00 | test accuracy: 0.96\n",
      "Epoch:  26 | train loss: 0.0000 | train accuracy: 1.00 | test accuracy: 0.96\n",
      "Epoch:  27 | train loss: 0.0000 | train accuracy: 1.00 | test accuracy: 0.96\n",
      "Epoch:  28 | train loss: 0.0000 | train accuracy: 1.00 | test accuracy: 0.96\n",
      "Epoch:  29 | train loss: 0.0000 | train accuracy: 1.00 | test accuracy: 0.96\n",
      "Epoch:  30 | train loss: 0.0000 | train accuracy: 1.00 | test accuracy: 0.96\n",
      "Epoch:  31 | train loss: 0.0000 | train accuracy: 1.00 | test accuracy: 0.96\n",
      "Epoch:  32 | train loss: 0.0000 | train accuracy: 1.00 | test accuracy: 0.96\n",
      "Epoch:  33 | train loss: 0.0000 | train accuracy: 1.00 | test accuracy: 0.96\n",
      "Epoch:  34 | train loss: 0.0000 | train accuracy: 1.00 | test accuracy: 0.96\n",
      "Epoch:  35 | train loss: 0.0000 | train accuracy: 1.00 | test accuracy: 0.96\n",
      "Epoch:  36 | train loss: 0.0000 | train accuracy: 1.00 | test accuracy: 0.96\n",
      "Epoch:  37 | train loss: 0.0000 | train accuracy: 1.00 | test accuracy: 0.96\n",
      "Epoch:  38 | train loss: 0.0000 | train accuracy: 1.00 | test accuracy: 0.96\n",
      "Epoch:  39 | train loss: 0.0000 | train accuracy: 1.00 | test accuracy: 0.96\n",
      "Epoch:  40 | train loss: 0.0000 | train accuracy: 1.00 | test accuracy: 0.96\n",
      "Epoch:  41 | train loss: 0.0000 | train accuracy: 1.00 | test accuracy: 0.96\n",
      "Epoch:  42 | train loss: 0.0000 | train accuracy: 1.00 | test accuracy: 0.96\n",
      "Epoch:  43 | train loss: 0.0000 | train accuracy: 1.00 | test accuracy: 0.96\n",
      "Epoch:  44 | train loss: 0.0000 | train accuracy: 1.00 | test accuracy: 0.96\n",
      "Epoch:  45 | train loss: 0.0000 | train accuracy: 1.00 | test accuracy: 0.96\n",
      "Epoch:  46 | train loss: 0.0000 | train accuracy: 1.00 | test accuracy: 0.96\n",
      "Epoch:  47 | train loss: 0.0000 | train accuracy: 1.00 | test accuracy: 0.96\n",
      "Epoch:  48 | train loss: 0.0000 | train accuracy: 1.00 | test accuracy: 0.96\n",
      "Epoch:  49 | train loss: 0.0000 | train accuracy: 1.00 | test accuracy: 0.96\n"
     ]
    }
   ],
   "source": [
    "mini_batch_size=100\n",
    "EPOCH = 50\n",
    "LR = 0.005              # learning rate\n",
    "step = 0\n",
    "\n",
    "optimizer = torch.optim.Adam(cnn.parameters(), lr=LR)   # optimize all cnn parameters\n",
    "criterion = nn.CrossEntropyLoss()                       # the target label is not one-hotted\n",
    "\n",
    "for epoch in range(EPOCH):\n",
    "    for b in range(0, train_input.size(0), mini_batch_size):   # gives batch data, normalize x when iterate train_loader\n",
    "        \n",
    "        x_tr = train_input.narrow(0, b, mini_batch_size).narrow(1, 0, 1)\n",
    "        y_tr = train_classes.narrow(0, b, mini_batch_size).narrow(1, 0, 1).squeeze()\n",
    "        x_tr = Variable(x_tr)   # batch x\n",
    "        y_tr = Variable(y_tr)   # batch y\n",
    "        \n",
    "        output,_ = cnn(x_tr)               # cnn output\n",
    "        loss = criterion(output, y_tr)   # cross entropy loss\n",
    "        optimizer.zero_grad()           # clear gradients for this training step\n",
    "        loss.backward()                 # backpropagation, compute gradients\n",
    "        optimizer.step()                # apply gradients\n",
    "        \n",
    "    x_te = test_input.narrow(0, b, mini_batch_size).narrow(1, 0, 1)\n",
    "    y_te = test_classes.narrow(0, b, mini_batch_size).narrow(1, 0, 1).squeeze()\n",
    "    x_te = Variable(x_te)   \n",
    "    y_te = Variable(y_te)   \n",
    "\n",
    "    \n",
    "    y_tr_pred = torch.max(output, 1)[1].data.squeeze()\n",
    "    acc_tr = (y_tr_pred == y_tr).sum().data.item() / y_tr.size(0)\n",
    "    \n",
    "    test_output, last_layer = cnn(x_te)    \n",
    "    y_te_pred = torch.max(test_output, 1)[1].data.squeeze()\n",
    "    acc_te = (y_te_pred == y_te).sum().data.item() / y_te.size(0)\n",
    "    print('Epoch: ', epoch, '| train loss: %.4f' % loss.data.item(), '| train accuracy: %.2f' % acc_tr, '| test accuracy: %.2f' % acc_te)\n"
   ]
  },
  {
   "cell_type": "code",
   "execution_count": 25,
   "metadata": {},
   "outputs": [
    {
     "data": {
      "image/png": "[encoded data removed]",
      "text/plain": [
       "<Figure size 432x288 with 1 Axes>"
      ]
     },
     "metadata": {
      "needs_background": "light"
     },
     "output_type": "display_data"
    }
   ],
   "source": [
    "# following function (plot_with_labels) is for visualization, can be ignored if not interested\n",
    "from matplotlib import cm\n",
    "from sklearn.manifold import TSNE\n",
    "\n",
    "def plot_with_labels(lowDWeights, labels):\n",
    "    plt.cla()\n",
    "    X, Y = lowDWeights[:, 0], lowDWeights[:, 1]\n",
    "    for x, y, s in zip(X, Y, labels):\n",
    "        c = cm.rainbow(int(255 * s / 9)); plt.text(x, y, s, backgroundcolor=c, fontsize=9)\n",
    "    plt.xlim(X.min(), X.max()); plt.ylim(Y.min(), Y.max()); plt.title('Visualize last layer'); plt.show(); plt.pause(0.01)\n",
    "\n",
    "plt.ion()\n",
    "\n",
    "tsne = TSNE(perplexity=30, n_components=2, init='pca', n_iter=5000)\n",
    "plot_only = 500\n",
    "low_dim_embs = tsne.fit_transform(last_layer.data.numpy()[:plot_only, :])\n",
    "labels = y_te.numpy()[:plot_only]\n",
    "plot_with_labels(low_dim_embs, labels)\n",
    "plt.ioff()\n"
   ]
  },
  {
   "cell_type": "markdown",
   "metadata": {},
   "source": [
    "----"
   ]
  }
 ],
 "metadata": {
  "kernelspec": {
   "display_name": "Python (dl)",
   "language": "python",
   "name": "dl"
  },
  "language_info": {
   "codemirror_mode": {
    "name": "ipython",
    "version": 3
   },
   "file_extension": ".py",
   "mimetype": "text/x-python",
   "name": "python",
   "nbconvert_exporter": "python",
   "pygments_lexer": "ipython3",
   "version": "3.7.2"
  }
 },
 "nbformat": 4,
 "nbformat_minor": 2
}
