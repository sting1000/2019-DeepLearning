{
 "cells": [
  {
   "cell_type": "code",
   "execution_count": 1,
   "metadata": {},
   "outputs": [],
   "source": [
    "# library\n",
    "# standard library\n",
    "import os\n",
    " \n",
    "# third-party library\n",
    "import torch\n",
    "import torch.nn as nn\n",
    "from torch.autograd import Variable\n",
    "import torch.utils.data as Data\n",
    "import torchvision\n",
    "import matplotlib.pyplot as plt"
   ]
  },
  {
   "cell_type": "code",
   "execution_count": 3,
   "metadata": {},
   "outputs": [],
   "source": [
    "import dlc_practical_prologue as helper"
   ]
  },
  {
   "cell_type": "code",
   "execution_count": 61,
   "metadata": {},
   "outputs": [],
   "source": [
    "train_input, train_target, train_classes, test_input, test_target, test_classes = helper.generate_pair_sets(1000)"
   ]
  },
  {
   "cell_type": "markdown",
   "metadata": {},
   "source": [
    "# Baseline (Full contected)"
   ]
  },
  {
   "cell_type": "code",
   "execution_count": 92,
   "metadata": {},
   "outputs": [
    {
     "name": "stdout",
     "output_type": "stream",
     "text": [
      "baseline(\n",
      "  (out): Sequential(\n",
      "    (0): Linear(in_features=392, out_features=256, bias=True)\n",
      "    (1): Sigmoid()\n",
      "    (2): Linear(in_features=256, out_features=64, bias=True)\n",
      "    (3): Sigmoid()\n",
      "    (4): Linear(in_features=64, out_features=2, bias=True)\n",
      "    (5): Sigmoid()\n",
      "  )\n",
      ")\n"
     ]
    }
   ],
   "source": [
    "class baseline(nn.Module):\n",
    "    def __init__(self):\n",
    "        super(baseline, self).__init__()\n",
    "        self.out = nn.Sequential( nn.Linear(392, 256), nn.Sigmoid(), nn.Linear(256, 64), nn.Sigmoid(), nn.Linear(64 , 2), nn.Sigmoid())   # fully connected layer, output 10 classes\n",
    " \n",
    "    def forward(self, x):\n",
    "        \n",
    "        x = x.view(x.size(0), -1)\n",
    "#         print(x.size())\n",
    "        output = self.out(x)\n",
    "        return output, x  \n",
    "baseline = baseline()\n",
    "print(baseline)  # net architecture\n"
   ]
  },
  {
   "cell_type": "code",
   "execution_count": 93,
   "metadata": {
    "scrolled": true
   },
   "outputs": [
    {
     "name": "stdout",
     "output_type": "stream",
     "text": [
      "Epoch:  0 | train loss: 0.6671 | train accuracy: 0.6100 | test accuracy: 0.51\n",
      "Epoch:  1 | train loss: 0.6508 | train accuracy: 0.6100 | test accuracy: 0.56\n",
      "Epoch:  2 | train loss: 0.6246 | train accuracy: 0.7600 | test accuracy: 0.72\n",
      "Epoch:  3 | train loss: 0.5926 | train accuracy: 0.7500 | test accuracy: 0.80\n",
      "Epoch:  4 | train loss: 0.5667 | train accuracy: 0.7700 | test accuracy: 0.80\n",
      "Epoch:  5 | train loss: 0.5438 | train accuracy: 0.8000 | test accuracy: 0.83\n",
      "Epoch:  6 | train loss: 0.5276 | train accuracy: 0.8100 | test accuracy: 0.86\n",
      "Epoch:  7 | train loss: 0.5059 | train accuracy: 0.8400 | test accuracy: 0.84\n",
      "Epoch:  8 | train loss: 0.4915 | train accuracy: 0.8600 | test accuracy: 0.85\n",
      "Epoch:  9 | train loss: 0.4825 | train accuracy: 0.8500 | test accuracy: 0.85\n",
      "Epoch:  10 | train loss: 0.4727 | train accuracy: 0.8500 | test accuracy: 0.85\n",
      "Epoch:  11 | train loss: 0.4597 | train accuracy: 0.8700 | test accuracy: 0.84\n",
      "Epoch:  12 | train loss: 0.4609 | train accuracy: 0.8500 | test accuracy: 0.80\n",
      "Epoch:  13 | train loss: 0.4375 | train accuracy: 0.9300 | test accuracy: 0.86\n",
      "Epoch:  14 | train loss: 0.4232 | train accuracy: 0.9200 | test accuracy: 0.85\n",
      "Epoch:  15 | train loss: 0.4157 | train accuracy: 0.9500 | test accuracy: 0.86\n",
      "Epoch:  16 | train loss: 0.4196 | train accuracy: 0.9200 | test accuracy: 0.81\n",
      "Epoch:  17 | train loss: 0.4112 | train accuracy: 0.9300 | test accuracy: 0.85\n",
      "Epoch:  18 | train loss: 0.4115 | train accuracy: 0.9200 | test accuracy: 0.81\n",
      "Epoch:  19 | train loss: 0.4095 | train accuracy: 0.9200 | test accuracy: 0.85\n",
      "Epoch:  20 | train loss: 0.3878 | train accuracy: 0.9500 | test accuracy: 0.84\n",
      "Epoch:  21 | train loss: 0.3874 | train accuracy: 0.9500 | test accuracy: 0.83\n",
      "Epoch:  22 | train loss: 0.3829 | train accuracy: 0.9600 | test accuracy: 0.82\n",
      "Epoch:  23 | train loss: 0.3789 | train accuracy: 0.9600 | test accuracy: 0.86\n",
      "Epoch:  24 | train loss: 0.3687 | train accuracy: 0.9700 | test accuracy: 0.85\n",
      "Epoch:  25 | train loss: 0.3750 | train accuracy: 0.9700 | test accuracy: 0.86\n",
      "Epoch:  26 | train loss: 0.3661 | train accuracy: 0.9700 | test accuracy: 0.84\n",
      "Epoch:  27 | train loss: 0.3609 | train accuracy: 0.9700 | test accuracy: 0.87\n",
      "Epoch:  28 | train loss: 0.3561 | train accuracy: 0.9700 | test accuracy: 0.82\n",
      "Epoch:  29 | train loss: 0.3571 | train accuracy: 0.9800 | test accuracy: 0.81\n",
      "Epoch:  30 | train loss: 0.3463 | train accuracy: 0.9800 | test accuracy: 0.81\n",
      "Epoch:  31 | train loss: 0.3480 | train accuracy: 0.9800 | test accuracy: 0.86\n",
      "Epoch:  32 | train loss: 0.3447 | train accuracy: 0.9800 | test accuracy: 0.84\n",
      "Epoch:  33 | train loss: 0.3400 | train accuracy: 0.9800 | test accuracy: 0.83\n",
      "Epoch:  34 | train loss: 0.3359 | train accuracy: 0.9800 | test accuracy: 0.83\n",
      "Epoch:  35 | train loss: 0.3320 | train accuracy: 0.9800 | test accuracy: 0.86\n",
      "Epoch:  36 | train loss: 0.3313 | train accuracy: 0.9900 | test accuracy: 0.84\n",
      "Epoch:  37 | train loss: 0.3283 | train accuracy: 1.0000 | test accuracy: 0.84\n",
      "Epoch:  38 | train loss: 0.3237 | train accuracy: 1.0000 | test accuracy: 0.84\n",
      "Epoch:  39 | train loss: 0.3229 | train accuracy: 1.0000 | test accuracy: 0.84\n",
      "Epoch:  40 | train loss: 0.3235 | train accuracy: 1.0000 | test accuracy: 0.84\n",
      "Epoch:  41 | train loss: 0.3211 | train accuracy: 1.0000 | test accuracy: 0.84\n",
      "Epoch:  42 | train loss: 0.3217 | train accuracy: 1.0000 | test accuracy: 0.87\n",
      "Epoch:  43 | train loss: 0.3207 | train accuracy: 1.0000 | test accuracy: 0.86\n",
      "Epoch:  44 | train loss: 0.3199 | train accuracy: 1.0000 | test accuracy: 0.87\n",
      "Epoch:  45 | train loss: 0.3190 | train accuracy: 1.0000 | test accuracy: 0.86\n",
      "Epoch:  46 | train loss: 0.3188 | train accuracy: 1.0000 | test accuracy: 0.86\n",
      "Epoch:  47 | train loss: 0.3185 | train accuracy: 1.0000 | test accuracy: 0.85\n",
      "Epoch:  48 | train loss: 0.3192 | train accuracy: 1.0000 | test accuracy: 0.86\n",
      "Epoch:  49 | train loss: 0.3177 | train accuracy: 1.0000 | test accuracy: 0.86\n"
     ]
    }
   ],
   "source": [
    "mini_batch_size=100\n",
    "EPOCH = 50\n",
    "LR = 0.001              # learning rate\n",
    "step = 0\n",
    "\n",
    "optimizer = torch.optim.Adam(baseline.parameters(), lr=LR)   # optimize all cnn parameters\n",
    "criterion = nn.CrossEntropyLoss()                       # the target label is not one-hotted\n",
    "\n",
    "for epoch in range(EPOCH):\n",
    "    for b in range(0, train_input.size(0), mini_batch_size):   # gives batch data, normalize x when iterate train_loader\n",
    "        \n",
    "        x_tr = train_input.narrow(0, b, mini_batch_size)\n",
    "        y_tr = train_target.narrow(0, b, mini_batch_size)#.narrow(1, 0, 1).squeeze()\n",
    "        x_tr = Variable(x_tr)   # batch x\n",
    "        y_tr = Variable(y_tr)   # batch y\n",
    "#         x_tr.requires_grad_()\n",
    "        output,_ = baseline(x_tr)               # cnn output\n",
    "#         print(output)\n",
    "        loss = criterion(output, y_tr)   # cross entropy loss\n",
    "#         print(loss)\n",
    "        optimizer.zero_grad()           # clear gradients for this training step\n",
    "        loss.backward()                 # backpropagation, compute gradients\n",
    "#         print(x_tr.grad)\n",
    "        optimizer.step()                # apply gradients\n",
    "        \n",
    "    x_te = test_input.narrow(0, b, mini_batch_size)#.narrow(1, 0, 1)\n",
    "    y_te = test_target.narrow(0, b, mini_batch_size)#.narrow(1, 0, 1).squeeze()\n",
    "    x_te = Variable(x_te)   \n",
    "    y_te = Variable(y_te)   \n",
    "\n",
    "    \n",
    "    y_tr_pred = torch.max(output, 1)[1].data.squeeze()\n",
    "    acc_tr = (y_tr_pred == y_tr).sum().data.item() / y_tr.size(0)\n",
    "    \n",
    "    test_output, last_layer = baseline(x_te)    \n",
    "    y_te_pred = torch.max(test_output, 1)[1].data.squeeze()\n",
    "    acc_te = (y_te_pred == y_te).sum().data.item() / y_te.size(0)\n",
    "    print('Epoch: ', epoch, '| train loss: %.4f' % loss.data.item(), '| train accuracy: %.4f' % acc_tr, '| test accuracy: %.2f' % acc_te)\n"
   ]
  },
  {
   "cell_type": "markdown",
   "metadata": {},
   "source": [
    "# Weight Sharing(with conv)"
   ]
  },
  {
   "cell_type": "code",
   "execution_count": 104,
   "metadata": {},
   "outputs": [
    {
     "name": "stdout",
     "output_type": "stream",
     "text": [
      "CNN(\n",
      "  (conv1): Sequential(\n",
      "    (0): Conv2d(2, 16, kernel_size=(3, 3), stride=(1, 1))\n",
      "    (1): ReLU()\n",
      "    (2): MaxPool2d(kernel_size=3, stride=3, padding=0, dilation=1, ceil_mode=False)\n",
      "  )\n",
      "  (conv2): Sequential(\n",
      "    (0): Conv2d(16, 32, kernel_size=(3, 3), stride=(1, 1), padding=(1, 1))\n",
      "    (1): ReLU()\n",
      "    (2): MaxPool2d(kernel_size=2, stride=2, padding=0, dilation=1, ceil_mode=False)\n",
      "  )\n",
      "  (out): Sequential(\n",
      "    (0): Linear(in_features=520, out_features=256, bias=True)\n",
      "    (1): Sigmoid()\n",
      "    (2): Linear(in_features=256, out_features=64, bias=True)\n",
      "    (3): Sigmoid()\n",
      "    (4): Linear(in_features=64, out_features=2, bias=True)\n",
      "    (5): Sigmoid()\n",
      "  )\n",
      ")\n"
     ]
    }
   ],
   "source": [
    "class CNN(nn.Module):\n",
    "    def __init__(self):\n",
    "        super(CNN, self).__init__()\n",
    "        self.conv1 = nn.Sequential(         # input shape (2, 28, 28)\n",
    "            nn.Conv2d(\n",
    "                in_channels=2,              # input height\n",
    "                out_channels=16,            # n_filters\n",
    "                kernel_size=3,              # filter size\n",
    "                stride=1                   # filter movement/step\n",
    "                              # if want same width and length of this image after con2d, padding=(kernel_size-1)/2 if stride=1\n",
    "            ),                              # output shape (16, 28, 28)\n",
    "            nn.ReLU(),                      # activation\n",
    "            nn.MaxPool2d(kernel_size=3),    # choose max value in 2x2 area, output shape (16, 14, 14)\n",
    "        )\n",
    "        self.conv2 = nn.Sequential(         # input shape (16, 14, 14)\n",
    "            nn.Conv2d(16, 32, 3 , 1, 1),     # output shape (32, 14, 14)\n",
    "            nn.ReLU(),                      # activation\n",
    "            nn.MaxPool2d(2),                # output shape (32, 7, 7)\n",
    "        )\n",
    "        self.out = nn.Sequential( nn.Linear(520, 256), nn.Sigmoid(), nn.Linear(256, 64), nn.Sigmoid(), nn.Linear(64 , 2), nn.Sigmoid())   # fully connected layer, output 10 classes\n",
    " \n",
    "    def forward(self, x):\n",
    "        x_ = x\n",
    "        x = self.conv1(x)\n",
    "        x = self.conv2(x)\n",
    "#         print(x.size())\n",
    "        x = x.view(x.size(0), -1)\n",
    "        x_ = x_.view(x_.size(0), -1)\n",
    "#         print(torch.cat((x, x_), 1).size())\n",
    "        output = self.out(torch.cat((x, x_), 1))\n",
    "        return output, x    # return x for visualization  \n",
    "cnn = CNN()\n",
    "print(cnn)  # net architecture\n"
   ]
  },
  {
   "cell_type": "code",
   "execution_count": 106,
   "metadata": {
    "scrolled": true
   },
   "outputs": [
    {
     "name": "stdout",
     "output_type": "stream",
     "text": [
      "Epoch:  0 | train loss: 0.5023 | train accuracy: 0.8700 | test accuracy: 0.79\n",
      "Epoch:  1 | train loss: 0.4738 | train accuracy: 0.9000 | test accuracy: 0.82\n",
      "Epoch:  2 | train loss: 0.4595 | train accuracy: 0.9100 | test accuracy: 0.82\n",
      "Epoch:  3 | train loss: 0.4412 | train accuracy: 0.9200 | test accuracy: 0.84\n",
      "Epoch:  4 | train loss: 0.4342 | train accuracy: 0.9100 | test accuracy: 0.79\n",
      "Epoch:  5 | train loss: 0.4243 | train accuracy: 0.9300 | test accuracy: 0.83\n",
      "Epoch:  6 | train loss: 0.4101 | train accuracy: 0.9400 | test accuracy: 0.80\n",
      "Epoch:  7 | train loss: 0.3980 | train accuracy: 0.9500 | test accuracy: 0.82\n",
      "Epoch:  8 | train loss: 0.3828 | train accuracy: 0.9600 | test accuracy: 0.83\n",
      "Epoch:  9 | train loss: 0.3759 | train accuracy: 0.9600 | test accuracy: 0.80\n",
      "Epoch:  10 | train loss: 0.3649 | train accuracy: 0.9700 | test accuracy: 0.83\n",
      "Epoch:  11 | train loss: 0.3588 | train accuracy: 0.9800 | test accuracy: 0.82\n",
      "Epoch:  12 | train loss: 0.3684 | train accuracy: 0.9700 | test accuracy: 0.82\n",
      "Epoch:  13 | train loss: 0.3803 | train accuracy: 0.9600 | test accuracy: 0.81\n",
      "Epoch:  14 | train loss: 0.4152 | train accuracy: 0.9300 | test accuracy: 0.79\n",
      "Epoch:  15 | train loss: 0.4128 | train accuracy: 0.9100 | test accuracy: 0.75\n",
      "Epoch:  16 | train loss: 0.3703 | train accuracy: 0.9700 | test accuracy: 0.74\n",
      "Epoch:  17 | train loss: 0.4112 | train accuracy: 0.9200 | test accuracy: 0.82\n",
      "Epoch:  18 | train loss: 0.4509 | train accuracy: 0.8500 | test accuracy: 0.77\n",
      "Epoch:  19 | train loss: 0.3930 | train accuracy: 0.9400 | test accuracy: 0.79\n",
      "Epoch:  20 | train loss: 0.3637 | train accuracy: 0.9700 | test accuracy: 0.83\n",
      "Epoch:  21 | train loss: 0.3527 | train accuracy: 0.9900 | test accuracy: 0.82\n",
      "Epoch:  22 | train loss: 0.3484 | train accuracy: 0.9900 | test accuracy: 0.84\n",
      "Epoch:  23 | train loss: 0.3461 | train accuracy: 0.9900 | test accuracy: 0.84\n",
      "Epoch:  24 | train loss: 0.3336 | train accuracy: 1.0000 | test accuracy: 0.86\n",
      "Epoch:  25 | train loss: 0.3302 | train accuracy: 1.0000 | test accuracy: 0.87\n",
      "Epoch:  26 | train loss: 0.3268 | train accuracy: 1.0000 | test accuracy: 0.85\n",
      "Epoch:  27 | train loss: 0.3244 | train accuracy: 1.0000 | test accuracy: 0.88\n",
      "Epoch:  28 | train loss: 0.3221 | train accuracy: 1.0000 | test accuracy: 0.85\n",
      "Epoch:  29 | train loss: 0.3201 | train accuracy: 1.0000 | test accuracy: 0.84\n",
      "Epoch:  30 | train loss: 0.3196 | train accuracy: 1.0000 | test accuracy: 0.87\n",
      "Epoch:  31 | train loss: 0.3192 | train accuracy: 1.0000 | test accuracy: 0.88\n",
      "Epoch:  32 | train loss: 0.3186 | train accuracy: 1.0000 | test accuracy: 0.87\n",
      "Epoch:  33 | train loss: 0.3180 | train accuracy: 1.0000 | test accuracy: 0.86\n",
      "Epoch:  34 | train loss: 0.3177 | train accuracy: 1.0000 | test accuracy: 0.87\n",
      "Epoch:  35 | train loss: 0.3174 | train accuracy: 1.0000 | test accuracy: 0.87\n",
      "Epoch:  36 | train loss: 0.3172 | train accuracy: 1.0000 | test accuracy: 0.86\n",
      "Epoch:  37 | train loss: 0.3170 | train accuracy: 1.0000 | test accuracy: 0.87\n",
      "Epoch:  38 | train loss: 0.3169 | train accuracy: 1.0000 | test accuracy: 0.87\n",
      "Epoch:  39 | train loss: 0.3167 | train accuracy: 1.0000 | test accuracy: 0.86\n",
      "Epoch:  40 | train loss: 0.3165 | train accuracy: 1.0000 | test accuracy: 0.87\n",
      "Epoch:  41 | train loss: 0.3164 | train accuracy: 1.0000 | test accuracy: 0.86\n",
      "Epoch:  42 | train loss: 0.3163 | train accuracy: 1.0000 | test accuracy: 0.85\n",
      "Epoch:  43 | train loss: 0.3161 | train accuracy: 1.0000 | test accuracy: 0.86\n",
      "Epoch:  44 | train loss: 0.3160 | train accuracy: 1.0000 | test accuracy: 0.86\n",
      "Epoch:  45 | train loss: 0.3159 | train accuracy: 1.0000 | test accuracy: 0.87\n",
      "Epoch:  46 | train loss: 0.3158 | train accuracy: 1.0000 | test accuracy: 0.87\n",
      "Epoch:  47 | train loss: 0.3157 | train accuracy: 1.0000 | test accuracy: 0.86\n",
      "Epoch:  48 | train loss: 0.3156 | train accuracy: 1.0000 | test accuracy: 0.86\n",
      "Epoch:  49 | train loss: 0.3155 | train accuracy: 1.0000 | test accuracy: 0.85\n"
     ]
    }
   ],
   "source": [
    "mini_batch_size=100\n",
    "EPOCH = 50\n",
    "LR = 0.001              # learning rate\n",
    "step = 0\n",
    "\n",
    "optimizer = torch.optim.Adam(cnn.parameters(), lr=LR)   # optimize all cnn parameters\n",
    "criterion = nn.CrossEntropyLoss()                       # the target label is not one-hotted\n",
    "\n",
    "for epoch in range(EPOCH):\n",
    "    for b in range(0, train_input.size(0), mini_batch_size):   # gives batch data, normalize x when iterate train_loader\n",
    "        \n",
    "        x_tr = train_input.narrow(0, b, mini_batch_size)\n",
    "        y_tr = train_target.narrow(0, b, mini_batch_size)#.narrow(1, 0, 1).squeeze()\n",
    "        x_tr = Variable(x_tr)   # batch x\n",
    "        y_tr = Variable(y_tr)   # batch y\n",
    "#         x_tr.requires_grad_()\n",
    "        output,_ = cnn(x_tr)               # cnn output\n",
    "#         print(output)\n",
    "        loss = criterion(output, y_tr)   # cross entropy loss\n",
    "#         print(loss)\n",
    "        optimizer.zero_grad()           # clear gradients for this training step\n",
    "        loss.backward()                 # backpropagation, compute gradients\n",
    "#         print(x_tr.grad)\n",
    "        optimizer.step()                # apply gradients\n",
    "        \n",
    "    x_te = test_input.narrow(0, b, mini_batch_size)#.narrow(1, 0, 1)\n",
    "    y_te = test_target.narrow(0, b, mini_batch_size)#.narrow(1, 0, 1).squeeze()\n",
    "    x_te = Variable(x_te)   \n",
    "    y_te = Variable(y_te)   \n",
    "\n",
    "    \n",
    "    y_tr_pred = torch.max(output, 1)[1].data.squeeze()\n",
    "    acc_tr = (y_tr_pred == y_tr).sum().data.item() / y_tr.size(0)\n",
    "    \n",
    "    test_output, last_layer = cnn(x_te)    \n",
    "    y_te_pred = torch.max(test_output, 1)[1].data.squeeze()\n",
    "    acc_te = (y_te_pred == y_te).sum().data.item() / y_te.size(0)\n",
    "    print('Epoch: ', epoch, '| train loss: %.4f' % loss.data.item(), '| train accuracy: %.4f' % acc_tr, '| test accuracy: %.2f' % acc_te)\n"
   ]
  },
  {
   "cell_type": "code",
   "execution_count": 12,
   "metadata": {},
   "outputs": [
    {
     "data": {
      "image/png": "[encoded data removed]",
      "text/plain": [
       "<Figure size 432x288 with 1 Axes>"
      ]
     },
     "metadata": {
      "needs_background": "light"
     },
     "output_type": "display_data"
    }
   ],
   "source": [
    "# following function (plot_with_labels) is for visualization, can be ignored if not interested\n",
    "from matplotlib import cm\n",
    "from sklearn.manifold import TSNE\n",
    "\n",
    "def plot_with_labels(lowDWeights, labels):\n",
    "    plt.cla()\n",
    "    X, Y = lowDWeights[:, 0], lowDWeights[:, 1]\n",
    "    for x, y, s in zip(X, Y, labels):\n",
    "        c = cm.rainbow(int(255 * s / 9)); plt.text(x, y, s, backgroundcolor=c, fontsize=9)\n",
    "    plt.xlim(X.min(), X.max()); plt.ylim(Y.min(), Y.max()); plt.title('Visualize last layer'); plt.show(); plt.pause(0.01)\n",
    "\n",
    "plt.ion()\n",
    "\n",
    "tsne = TSNE(perplexity=30, n_components=2, init='pca', n_iter=5000)\n",
    "plot_only = 500\n",
    "low_dim_embs = tsne.fit_transform(last_layer.data.numpy()[:plot_only, :])\n",
    "labels = y_te.numpy()[:plot_only]\n",
    "plot_with_labels(low_dim_embs, labels)\n",
    "plt.ioff()\n"
   ]
  },
  {
   "cell_type": "markdown",
   "metadata": {},
   "source": [
    "----"
   ]
  }
 ],
 "metadata": {
  "kernelspec": {
   "display_name": "Python [default]",
   "language": "python",
   "name": "python3"
  },
  "language_info": {
   "codemirror_mode": {
    "name": "ipython",
    "version": 3
   },
   "file_extension": ".py",
   "mimetype": "text/x-python",
   "name": "python",
   "nbconvert_exporter": "python",
   "pygments_lexer": "ipython3",
   "version": "3.5.6"
  }
 },
 "nbformat": 4,
 "nbformat_minor": 2
}
