{
 "cells": [
  {
   "cell_type": "code",
   "execution_count": 74,
   "metadata": {
    "scrolled": true
   },
   "outputs": [],
   "source": [
    "from torch import empty\n",
    "import math\n",
    "import torch"
   ]
  },
  {
   "cell_type": "code",
   "execution_count": 75,
   "metadata": {},
   "outputs": [
    {
     "data": {
      "text/plain": [
       "<torch.autograd.grad_mode.set_grad_enabled at 0x118808ef0>"
      ]
     },
     "execution_count": 75,
     "metadata": {},
     "output_type": "execute_result"
    }
   ],
   "source": [
    "torch.set_grad_enabled(False)"
   ]
  },
  {
   "cell_type": "code",
   "execution_count": 55,
   "metadata": {
    "scrolled": true
   },
   "outputs": [],
   "source": [
    "def generate_data(n=1000):\n",
    "    inputs = empty(n, 2)\n",
    "    inputs = empty(n, 2).uniform_(0,1)\n",
    "    labels = (inputs - 0.5).pow(2).sum(1)<1/(2*math.pi)\n",
    "    return inputs, labels"
   ]
  },
  {
   "cell_type": "code",
   "execution_count": 70,
   "metadata": {},
   "outputs": [],
   "source": [
    "def split_dataset(inputs, lables, train_ratio=0.7, val_ratio=0.1, test_ratio=0.2):\n",
    "    train_len = math.floor(inputs.size()[0] * train_ratio)\n",
    "    val_len = math.floor(inputs.size()[0] * val_ratio)\n",
    "    test_len = inputs.size()[0]-train_len-val_len\n",
    "    \n",
    "    train_inputs = inputs.narrow(0, 0, train_len)\n",
    "    train_labels = labels.narrow(0, 0, train_len)\n",
    "    \n",
    "    validation_inputs = inputs.narrow(0, train_len, val_len)\n",
    "    validation_labels = labels.narrow(0, train_len, val_len)\n",
    "    \n",
    "    test_inputs = inputs.narrow(0, train_len+val_len, test_len)\n",
    "    test_labels = labels.narrow(0, train_len+val_len, test_len)\n",
    "    \n",
    "    return train_inputs, train_labels, validation_inputs, validation_labels, test_inputs, test_labels"
   ]
  },
  {
   "cell_type": "code",
   "execution_count": 71,
   "metadata": {},
   "outputs": [],
   "source": [
    "inputs, labels = generate_data(n=1000)\n",
    "train_inputs, train_labels, validation_inputs, validation_labels, test_inputs, test_labels = \\\n",
    "split_dataset(inputs, labels, train_ratio=0.7, val_ratio=0.1, test_ratio=0.2) \n"
   ]
  },
  {
   "cell_type": "code",
   "execution_count": 83,
   "metadata": {},
   "outputs": [],
   "source": [
    "class Module (object) :\n",
    "    \"\"\"\n",
    "    Base class for other neural network modules to inherit from\n",
    "    \"\"\"\n",
    "    \n",
    "    def __init__(self):\n",
    "        self._author = 'HB_FB'\n",
    "    \n",
    "    def forward ( self , input ) :\n",
    "        \"\"\" `forward` should get for input, and returns, a tensor or a tuple of tensors \"\"\"\n",
    "        raise NotImplementedError\n",
    "        \n",
    "    def backward ( self , gradwrtoutput ) :\n",
    "        \"\"\"\n",
    "        `backward` should get as input a tensor or a tuple of tensors containing the gradient of the loss \n",
    "        with respect to the module’s output, accumulate the gradient wrt the parameters, and return a \n",
    "        tensor or a tuple of tensors containing the gradient of the loss wrt the module’s input.\n",
    "        \"\"\"\n",
    "        raise NotImplementedError\n",
    "        \n",
    "    def param ( self ) :\n",
    "        \"\"\" \n",
    "        `param` should return a list of pairs, each composed of a parameter tensor, and a gradient tensor \n",
    "        of same size. This list should be empty for parameterless modules (e.g. activation functions). \n",
    "        \"\"\"\n",
    "        return []"
   ]
  },
  {
   "cell_type": "code",
   "execution_count": null,
   "metadata": {},
   "outputs": [],
   "source": [
    "class Linear(Module):\n",
    "    \n",
    "    def __init__(self, input_dim, output_dim, std=1):\n",
    "        super().__init__()\n",
    "        self.weight = empty(output_dim, input_dim).normal_(0, std)\n",
    "        self.bias = Tensor(output_dim).normal_(0, std)\n",
    "        self.dw = empty(self.weight.size()).zero_()\n",
    "        self.db = empty(self.bias.size()).zero_()\n",
    "        self.x = 0\n",
    "         \n",
    "    def forward(self, input_):\n",
    "        self.x = input_\n",
    "        return self.weight.mv(self.x) + self.bias\n",
    "    \n",
    "    def backward(self, grdwrtoutput):\n",
    "        self.dw.add_(grdwrtoutput.view(-1,1).mm(self.x.view(1,-1)))\n",
    "        self.db.add_(grdwrtoutput)\n",
    "        return self.weight.t().mv(grdwrtoutput)\n",
    "    \n",
    "    def param (self):\n",
    "        return [(self.weight, self.dw), (self.bias, self.db)]"
   ]
  },
  {
   "cell_type": "code",
   "execution_count": 90,
   "metadata": {},
   "outputs": [],
   "source": [
    "class ReLu(Module):\n",
    "    \n",
    "    def __init__(self):\n",
    "        super().__init__()\n",
    "        self.input_ = 0\n",
    "        \n",
    "    def forward(self, input_):\n",
    "        self.input_ = input_\n",
    "        result = self.input_ * (self.input_ > 0).float()\n",
    "        return result\n",
    "    \n",
    "    def backward(self, grdwrtoutput):\n",
    "        return grdwrtoutput * (self.input_ > 0).float()    \n",
    "\n",
    "    def param (self):\n",
    "        return [(None, None)]  "
   ]
  },
  {
   "cell_type": "code",
   "execution_count": 131,
   "metadata": {},
   "outputs": [],
   "source": [
    "class Tanh(Module):\n",
    "    \n",
    "    def __init__(self):\n",
    "        super().__init__()\n",
    "        self.input_ = 0\n",
    "        \n",
    "    def forward(self, input_):\n",
    "        self.input_ = input_\n",
    "        tanh = 2/(1+(-2*input_).exp())-1\n",
    "        return tanh\n",
    "    \n",
    "    def backward(self, grdwrtoutput):\n",
    "        result = 4*((self.input_.exp() + (-self.input_).exp()).pow(-2)) * grdwrtoutput\n",
    "        return result\n",
    "    \n",
    "    def param (self):\n",
    "        return [(None, None)]"
   ]
  },
  {
   "cell_type": "code",
   "execution_count": null,
   "metadata": {},
   "outputs": [],
   "source": [
    "class Sequential(Module):\n",
    "    \n",
    "    def __init__(self, *argv):\n",
    "        super().__init__()\n",
    "        self.modules = []\n",
    "        args = list(args)[0]\n",
    "        for module in argv:\n",
    "            self.modules.append(module)\n",
    "    \n",
    "    def forward(self, input_):\n",
    "        result = input_\n",
    "        for module in self.modules:\n",
    "            result = module.forward(result)\n",
    "        return result\n",
    "    \n",
    "    def backward(self, grdwrtoutput):\n",
    "        modules_re = self.modules[::-1]\n",
    "        result = grdwrtoutput\n",
    "        for module in modules_re:\n",
    "            result = module.backward(result)\n",
    "    \n",
    "    def param ( self ) :\n",
    "        parameters = []\n",
    "        for module in self.modules:\n",
    "            parameters.append(module.param())\n",
    "        return parameters"
   ]
  },
  {
   "cell_type": "code",
   "execution_count": null,
   "metadata": {},
   "outputs": [],
   "source": [
    "def loss(pred, label):\n",
    "    return (pred - label.float()).pow(2).sum()\n",
    "\n",
    "def dloss(pred,label):\n",
    "    return 2*(pred - label.float())"
   ]
  }
 ],
 "metadata": {
  "kernelspec": {
   "display_name": "Python 3",
   "language": "python",
   "name": "python3"
  },
  "language_info": {
   "codemirror_mode": {
    "name": "ipython",
    "version": 3
   },
   "file_extension": ".py",
   "mimetype": "text/x-python",
   "name": "python",
   "nbconvert_exporter": "python",
   "pygments_lexer": "ipython3",
   "version": "3.6.8"
  }
 },
 "nbformat": 4,
 "nbformat_minor": 2
}
