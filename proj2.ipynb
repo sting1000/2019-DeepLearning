{
 "cells": [
  {
   "cell_type": "code",
   "execution_count": 74,
   "metadata": {
    "scrolled": true
   },
   "outputs": [],
   "source": [
    "from torch import empty\n",
    "import math\n",
    "import torch"
   ]
  },
  {
   "cell_type": "code",
   "execution_count": 75,
   "metadata": {},
   "outputs": [
    {
     "data": {
      "text/plain": [
       "<torch.autograd.grad_mode.set_grad_enabled at 0x118808ef0>"
      ]
     },
     "execution_count": 75,
     "metadata": {},
     "output_type": "execute_result"
    }
   ],
   "source": [
    "torch.set_grad_enabled(False)"
   ]
  },
  {
   "cell_type": "code",
   "execution_count": 55,
   "metadata": {
    "scrolled": true
   },
   "outputs": [],
   "source": [
    "def generate_data(n=1000):\n",
    "    inputs = empty(n, 2)\n",
    "    inputs = empty(n, 2).uniform_(0,1)\n",
    "    labels = (inputs - 0.5).pow(2).sum(1)<1/(2*math.pi)\n",
    "    return inputs, labels"
   ]
  },
  {
   "cell_type": "code",
   "execution_count": 70,
   "metadata": {},
   "outputs": [],
   "source": [
    "def split_dataset(inputs, lables, train_ratio=0.7, val_ratio=0.1, test_ratio=0.2):\n",
    "    train_len = math.floor(inputs.size()[0] * train_ratio)\n",
    "    val_len = math.floor(inputs.size()[0] * val_ratio)\n",
    "    test_len = inputs.size()[0]-train_len-val_len\n",
    "    \n",
    "    train_inputs = inputs.narrow(0, 0, train_len)\n",
    "    train_labels = labels.narrow(0, 0, train_len)\n",
    "    \n",
    "    validation_inputs = inputs.narrow(0, train_len, val_len)\n",
    "    validation_labels = labels.narrow(0, train_len, val_len)\n",
    "    \n",
    "    test_inputs = inputs.narrow(0, train_len+val_len, test_len)\n",
    "    test_labels = labels.narrow(0, train_len+val_len, test_len)\n",
    "    \n",
    "    return train_inputs, train_labels, validation_inputs, validation_labels, test_inputs, test_labels"
   ]
  },
  {
   "cell_type": "code",
   "execution_count": 71,
   "metadata": {},
   "outputs": [],
   "source": [
    "inputs, labels = generate_data(n=1000)\n",
    "train_inputs, train_labels, validation_inputs, validation_labels, test_inputs, test_labels = \\\n",
    "split_dataset(inputs, labels, train_ratio=0.7, val_ratio=0.1, test_ratio=0.2) \n"
   ]
  },
  {
   "cell_type": "code",
   "execution_count": 83,
   "metadata": {},
   "outputs": [],
   "source": [
    "class Module (object) :\n",
    "    \"\"\"\n",
    "    Base class for other neural network modules to inherit from\n",
    "    \"\"\"\n",
    "    \n",
    "    def __init__(self):\n",
    "        self._author = 'HB_FB'\n",
    "    \n",
    "    def forward ( self , input ) :\n",
    "        \"\"\" `forward` should get for input, and returns, a tensor or a tuple of tensors \"\"\"\n",
    "        raise NotImplementedError\n",
    "        \n",
    "    def backward ( self , gradwrtoutput ) :\n",
    "        \"\"\"\n",
    "        `backward` should get as input a tensor or a tuple of tensors containing the gradient of the loss \n",
    "        with respect to the module’s output, accumulate the gradient wrt the parameters, and return a \n",
    "        tensor or a tuple of tensors containing the gradient of the loss wrt the module’s input.\n",
    "        \"\"\"\n",
    "        raise NotImplementedError\n",
    "        \n",
    "    def param ( self ) :\n",
    "        \"\"\" \n",
    "        `param` should return a list of pairs, each composed of a parameter tensor, and a gradient tensor \n",
    "        of same size. This list should be empty for parameterless modules (e.g. activation functions). \n",
    "        \"\"\"\n",
    "        return []"
   ]
  },
  {
   "cell_type": "code",
   "execution_count": 84,
   "metadata": {},
   "outputs": [
    {
     "data": {
      "text/plain": [
       "torch.Size([3, 5])"
      ]
     },
     "execution_count": 84,
     "metadata": {},
     "output_type": "execute_result"
    }
   ],
   "source": [
    "test = torch.randn(3,5)\n",
    "test.shape"
   ]
  },
  {
   "cell_type": "code",
   "execution_count": 85,
   "metadata": {},
   "outputs": [
    {
     "data": {
      "text/plain": [
       "torch.Size([15, 1])"
      ]
     },
     "execution_count": 85,
     "metadata": {},
     "output_type": "execute_result"
    }
   ],
   "source": [
    "test.view(-1,1).shape"
   ]
  },
  {
   "cell_type": "code",
   "execution_count": 90,
   "metadata": {},
   "outputs": [],
   "source": [
    "class ReLu(Module):\n",
    "    \"\"\"\n",
    "    Activation module: ReLu\n",
    "    \n",
    "    Outputs:\n",
    "    forward  :   FloatTensor of size m (m: number of units)\n",
    "    backward :   FloatTensor of size m (m: number of units)\n",
    "    \"\"\"\n",
    "    def __init__(self):\n",
    "        super().__init__()\n",
    "        self.s = 0\n",
    "        \n",
    "    def forward(self, input_):\n",
    "        self.s = inputs\n",
    "        relu = input_.clamp(min=0)\n",
    "        return relu\n",
    "    \n",
    "    def backward(self, grdwrtoutput):\n",
    "        relu_input = self.s\n",
    "        der_relu = relu_input.sign().clamp(min=0)#导数只有可能是1或者0\n",
    "        gradient_in = grdwrtoutput * der_relu\n",
    "        return gradient_in    \n",
    "\n",
    "    def param (self):\n",
    "        return [(None, None)]  "
   ]
  },
  {
   "cell_type": "code",
   "execution_count": 131,
   "metadata": {},
   "outputs": [],
   "source": [
    "class Tanh(Module):\n",
    "    \"\"\"\n",
    "    Activation module: Tanh \n",
    "    \n",
    "    Outputs:\n",
    "    forward  :  FloatTensor of size m (m: number of units)\n",
    "    backward :  FloatTensor of size m (m: number of units)\n",
    "    \"\"\"\n",
    "    \n",
    "    def __init__(self):\n",
    "        super().__init__()\n",
    "        self.input_ = 0\n",
    "        \n",
    "    def forward(self, input_):\n",
    "        self.input_ = input_\n",
    "        tanh = 2/(1+(-2*input_).exp())-1\n",
    "        return tanh\n",
    "    \n",
    "    def backward(self, grdwrtoutput):\n",
    "        result = 4*((self.input_.exp() + (-self.input_).exp()).pow(-2)) * grdwrtoutput\n",
    "        return result\n",
    "    \n",
    "    def param (self):\n",
    "        return [(None, None)]"
   ]
  },
  {
   "cell_type": "code",
   "execution_count": null,
   "metadata": {},
   "outputs": [],
   "source": [
    "class Sequential(Module):\n",
    "    \"\"\"\n",
    "    A module combining several modules in basic sequential structure\n",
    "    \n",
    "    Outputs:\n",
    "    parameters :  List object containing List objects with the parameters of the modules in the Sequential instance. \n",
    "    \"\"\"\n",
    "    def __init__(self, *args):\n",
    "        super().__init__()\n",
    "        self.modules = []\n",
    "        args = list(args)[0]\n",
    "        for ind, module in enumerate(args):\n",
    "            self.add_module(str(ind), module)\n",
    "\n",
    "    def add_module(self, ind, module):\n",
    "        self.ind = module\n",
    "        self.modules.append(self.ind)\n",
    "        return module\n",
    "    \n",
    "    def forward(self, input):\n",
    "        out = input\n",
    "        for module in self.modules:\n",
    "            out = module.forward(out)\n",
    "        return out\n",
    "    \n",
    "    def backward(self, grdwrtoutput):\n",
    "        reversed_modules = self.modules[::-1]\n",
    "        out = grdwrtoutput\n",
    "        for module in reversed_modules:\n",
    "            out = module.backward(out)\n",
    "    \n",
    "    def param ( self ) :\n",
    "        parameters = []\n",
    "        for module in self.modules:\n",
    "            parameters.append(module.param())\n",
    "        return parameters"
   ]
  }
 ],
 "metadata": {
  "kernelspec": {
   "display_name": "Python (deep_learning)",
   "language": "python",
   "name": "deep_learning"
  }
 },
 "nbformat": 4,
 "nbformat_minor": 2
}
