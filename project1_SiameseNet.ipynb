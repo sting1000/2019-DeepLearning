{
 "cells": [
  {
   "cell_type": "markdown",
   "metadata": {},
   "source": [
    "1. Drop out;\n",
    "2. Data augmentation;\n",
    "3. Weight sharing."
   ]
  },
  {
   "cell_type": "code",
   "execution_count": 1,
   "metadata": {},
   "outputs": [],
   "source": [
    "# library\n",
    "# standard library\n",
    "import os\n",
    "\n",
    "# third-party library\n",
    "import torch\n",
    "import torch.nn as nn\n",
    "from torch.autograd import Variable\n",
    "import torch.utils.data as Data\n",
    "import torchvision.transforms as transforms\n",
    "\n",
    "import matplotlib.pyplot as plt"
   ]
  },
  {
   "cell_type": "code",
   "execution_count": 2,
   "metadata": {},
   "outputs": [],
   "source": [
    "import dlc_practical_prologue as helper"
   ]
  },
  {
   "cell_type": "code",
   "execution_count": 3,
   "metadata": {},
   "outputs": [],
   "source": [
    "def plot_images(images, labels):\n",
    "    fig, axes = plt.subplots(3, 3)\n",
    "    fig.subplots_adjust(hspace=0.3, wspace=0.3)\n",
    "\n",
    "    for i, ax in enumerate(axes.flat):\n",
    "        # Plot image.\n",
    "        ax.imshow(images[i].squeeze(), cmap='gray')\n",
    "        xlabel = \"True: {0}\".format(labels[i])\n",
    "        ax.set_xlabel(xlabel)\n",
    "        # Remove ticks from the plot.\n",
    "        ax.set_xticks([])\n",
    "        ax.set_yticks([])\n",
    "        \n",
    "    # Ensure the plot is shown correctly with multiple plots\n",
    "    # in a single Notebook cell.\n",
    "    plt.show()"
   ]
  },
  {
   "cell_type": "markdown",
   "metadata": {},
   "source": [
    "---\n",
    "### Siamese network with auxiliary loss\n",
    "\n",
    "We do not use drop out in siamese network because we cannot promise for one pair of images, for each image the same nodes are dropped out."
   ]
  },
  {
   "cell_type": "code",
   "execution_count": 4,
   "metadata": {},
   "outputs": [],
   "source": [
    "transform = transforms.Compose([\n",
    "    transforms.ToPILImage(),\n",
    "    transforms.RandomRotation(5),\n",
    "    transforms.ToTensor()\n",
    "])\n",
    "\n",
    "class rotated_dataset():\n",
    "    def __init__(self, data, transform=transform):\n",
    "        self.data = data\n",
    "        self.transform = transform\n",
    "\n",
    "    def __getitem__(self,idx1,idx2):\n",
    "        item = self.data[idx1][idx2].unsqueeze(0)\n",
    "        item = self.transform(item)\n",
    "        return item.squeeze()\n",
    "    \n",
    "    def __rotate__(self):\n",
    "        trans_img = torch.zeros_like(self.data)\n",
    "        for i in range(trans_img.shape[0]):\n",
    "            for j in range(trans_img.shape[1]):\n",
    "                trans_img[i][j] = self.__getitem__(i,j)\n",
    "        return trans_img"
   ]
  },
  {
   "cell_type": "code",
   "execution_count": null,
   "metadata": {},
   "outputs": [],
   "source": []
  },
  {
   "cell_type": "code",
   "execution_count": null,
   "metadata": {},
   "outputs": [],
   "source": []
  },
  {
   "cell_type": "code",
   "execution_count": null,
   "metadata": {},
   "outputs": [],
   "source": []
  },
  {
   "cell_type": "code",
   "execution_count": null,
   "metadata": {},
   "outputs": [],
   "source": []
  },
  {
   "cell_type": "code",
   "execution_count": null,
   "metadata": {},
   "outputs": [],
   "source": []
  },
  {
   "cell_type": "code",
   "execution_count": null,
   "metadata": {},
   "outputs": [],
   "source": []
  },
  {
   "cell_type": "code",
   "execution_count": null,
   "metadata": {},
   "outputs": [],
   "source": []
  },
  {
   "cell_type": "code",
   "execution_count": 5,
   "metadata": {},
   "outputs": [],
   "source": [
    "def compute_nb_errors(model, input, target):\n",
    "    nb_errors = []\n",
    "    num_round = 20\n",
    "    mini_batch_size = input.size(0)//num_round\n",
    "    for i in range(num_round):\n",
    "        b = i*mini_batch_size\n",
    "        output = model(input.narrow(0, b, mini_batch_size))[0]\n",
    "        target_patch = target.narrow(0, b, mini_batch_size)\n",
    "        _,output = output.max(1)\n",
    "        nb_errors.append((output != target_patch).sum().data.item()/mini_batch_size)\n",
    "    nb_tensor = torch.FloatTensor(nb_errors)\n",
    "    return nb_tensor.mean().item(),nb_tensor.std().item()"
   ]
  },
  {
   "cell_type": "code",
   "execution_count": 6,
   "metadata": {
    "scrolled": false
   },
   "outputs": [
    {
     "name": "stdout",
     "output_type": "stream",
     "text": [
      "71790\n",
      "baseline(\n",
      "  (conv1): Sequential(\n",
      "    (0): Conv2d(2, 16, kernel_size=(2, 2), stride=(1, 1))\n",
      "    (1): ReLU()\n",
      "    (2): BatchNorm2d(16, eps=1e-05, momentum=0.1, affine=True, track_running_stats=True)\n",
      "    (3): MaxPool2d(kernel_size=2, stride=2, padding=0, dilation=1, ceil_mode=False)\n",
      "  )\n",
      "  (conv2): Sequential(\n",
      "    (0): Conv2d(16, 64, kernel_size=(2, 2), stride=(1, 1), padding=(1, 1))\n",
      "    (1): ReLU()\n",
      "    (2): BatchNorm2d(64, eps=1e-05, momentum=0.1, affine=True, track_running_stats=True)\n",
      "    (3): MaxPool2d(kernel_size=2, stride=2, padding=0, dilation=1, ceil_mode=False)\n",
      "  )\n",
      "  (conv3): Sequential(\n",
      "    (0): Conv2d(64, 128, kernel_size=(2, 2), stride=(1, 1), padding=(1, 1))\n",
      "    (1): BatchNorm2d(128, eps=1e-05, momentum=0.1, affine=True, track_running_stats=True)\n",
      "    (2): ReLU()\n",
      "    (3): MaxPool2d(kernel_size=2, stride=2, padding=0, dilation=1, ceil_mode=False)\n",
      "  )\n",
      "  (fc1): Linear(in_features=512, out_features=64, bias=True)\n",
      "  (fc2): Linear(in_features=64, out_features=20, bias=True)\n",
      "  (out): Linear(in_features=20, out_features=2, bias=True)\n",
      ")\n"
     ]
    }
   ],
   "source": [
    "class baseline(nn.Module):\n",
    "    def __init__(self):\n",
    "        super(baseline, self).__init__()\n",
    "        self.conv1 = nn.Sequential(         # input shape (2, 14, 14)\n",
    "            nn.Conv2d(\n",
    "                in_channels=2,              # input height\n",
    "                out_channels=16,            # n_filters\n",
    "                kernel_size=2,              # filter size\n",
    "                stride=1                   # filter movement/step\n",
    "                              # if want same width and length of this image after con2d, padding=(kernel_size-1)/2 if stride=1\n",
    "            ),                              # output shape (16, 28, 28)\n",
    "#             nn.Dropout(0.5),\n",
    "            nn.ReLU(),                      # activation\n",
    "            nn.BatchNorm2d(16),\n",
    "            nn.MaxPool2d(2),    # choose max value in 2x2 area, output shape (16, 14, 14)\n",
    "        )\n",
    "        self.conv2 = nn.Sequential(         # input shape (16, 14, 14)\n",
    "            nn.Conv2d(16, 64, 2, 1, 1),     # output shape (32, 14, 14)\n",
    "#             nn.Dropout(0.5),\n",
    "            nn.ReLU(),                      # activation\n",
    "            nn.BatchNorm2d(64),\n",
    "            nn.MaxPool2d(2),                # output shape (32, 7, 7)\n",
    "        )\n",
    "        self.conv3 = nn.Sequential(         # input shape (16, 14, 14)\n",
    "            nn.Conv2d(64, 128, 2, 1, 1),     # output shape (32, 14, 14)\n",
    "#             nn.Dropout(0.5),\n",
    "            nn.BatchNorm2d(128),\n",
    "            nn.ReLU(),                      # activation\n",
    "            nn.MaxPool2d(2),                # output shape (32, 7, 7)\n",
    "        )\n",
    "        self.fc1 = nn.Linear(128 *2 * 2, 64)\n",
    "        self.fc2 = nn.Linear(64, 20)\n",
    "        self.out = nn.Linear(20,2)\n",
    " \n",
    "    def forward(self, x):\n",
    "        x = self.conv1(x)\n",
    "        x = self.conv2(x)\n",
    "        x = self.conv3(x)\n",
    "        x = x.view(x.size(0), -1)\n",
    "        x = self.fc1(x)\n",
    "        x = self.fc2(x)\n",
    "        output = self.out(x)\n",
    "        return output,x\n",
    "\n",
    "base = baseline()\n",
    "pytorch_total_params = sum(p.numel() for p in base.parameters() if p.requires_grad)\n",
    "print(pytorch_total_params)\n",
    "print(base)  # net architecture\n"
   ]
  },
  {
   "cell_type": "code",
   "execution_count": 7,
   "metadata": {
    "scrolled": true
   },
   "outputs": [
    {
     "name": "stdout",
     "output_type": "stream",
     "text": [
      "71076\n",
      "CNN_Siamese(\n",
      "  (conv1): Sequential(\n",
      "    (0): Conv2d(1, 16, kernel_size=(2, 2), stride=(1, 1))\n",
      "    (1): ReLU()\n",
      "    (2): BatchNorm2d(16, eps=1e-05, momentum=0.1, affine=True, track_running_stats=True)\n",
      "    (3): MaxPool2d(kernel_size=2, stride=2, padding=0, dilation=1, ceil_mode=False)\n",
      "  )\n",
      "  (conv2): Sequential(\n",
      "    (0): Conv2d(16, 64, kernel_size=(2, 2), stride=(1, 1), padding=(1, 1))\n",
      "    (1): ReLU()\n",
      "    (2): BatchNorm2d(64, eps=1e-05, momentum=0.1, affine=True, track_running_stats=True)\n",
      "    (3): MaxPool2d(kernel_size=2, stride=2, padding=0, dilation=1, ceil_mode=False)\n",
      "  )\n",
      "  (conv3): Sequential(\n",
      "    (0): Conv2d(64, 128, kernel_size=(2, 2), stride=(1, 1), padding=(1, 1))\n",
      "    (1): BatchNorm2d(128, eps=1e-05, momentum=0.1, affine=True, track_running_stats=True)\n",
      "    (2): ReLU()\n",
      "    (3): MaxPool2d(kernel_size=2, stride=2, padding=0, dilation=1, ceil_mode=False)\n",
      "  )\n",
      "  (fc1): Linear(in_features=512, out_features=64, bias=True)\n",
      "  (fc2): Linear(in_features=64, out_features=10, bias=True)\n",
      "  (out): Linear(in_features=20, out_features=2, bias=True)\n",
      ")\n"
     ]
    }
   ],
   "source": [
    "class CNN_Siamese(nn.Module):\n",
    "    def __init__(self):\n",
    "        super(CNN_Siamese, self).__init__()\n",
    "        self.conv1 = nn.Sequential(         # input shape (1, 14, 14)\n",
    "            nn.Conv2d(\n",
    "                in_channels=1,              # input height\n",
    "                out_channels=16,            # n_filters\n",
    "                kernel_size=2,              # filter size\n",
    "                stride=1                   # filter movement/step\n",
    "                              # if want same width and length of this image after con2d, padding=(kernel_size-1)/2 if stride=1\n",
    "            ),                              \n",
    "#             nn.Dropout(0.5),\n",
    "            nn.ReLU(),                      # activation\n",
    "            nn.BatchNorm2d(16),\n",
    "            nn.MaxPool2d(2),    # choose max value in 2x2 area, output shape (16, 14, 14)\n",
    "        )\n",
    "        self.conv2 = nn.Sequential(         # input shape (16, 14, 14)\n",
    "            nn.Conv2d(16, 64, 2, 1, 1),     \n",
    "#             nn.Dropout(0.5),\n",
    "            nn.ReLU(),                      # activation\n",
    "            nn.BatchNorm2d(64),\n",
    "            nn.MaxPool2d(2),                \n",
    "        )\n",
    "        self.conv3 = nn.Sequential(         \n",
    "            nn.Conv2d(64, 128, 2, 1, 1),     \n",
    "#             nn.Dropout(0.5),\n",
    "            nn.BatchNorm2d(128),\n",
    "            nn.ReLU(),                      # activation\n",
    "            nn.MaxPool2d(2),                \n",
    "        )\n",
    "        self.fc1 = nn.Linear(128 *2 * 2, 64)\n",
    "        self.fc2 = nn.Linear(64, 10)\n",
    "        self.out = nn.Linear(20,2)\n",
    "\n",
    "    def forward_once(self, x):\n",
    "        x = self.conv1(x)\n",
    "        x = self.conv2(x)\n",
    "        x = self.conv3(x)\n",
    "        x = x.view(x.size(0), -1)\n",
    "        x = self.fc1(x)\n",
    "        output = self.fc2(x)\n",
    "        return output,x\n",
    "    \n",
    "    def forward(self,x):\n",
    "        input1 = x.narrow(1,0,1)\n",
    "        input2 = x.narrow(1,1,1)\n",
    "        output1,last_layer1 = self.forward_once(input1)\n",
    "        output2,last_layer2 = self.forward_once(input2)\n",
    "        output = torch.cat([output1,output2],dim=1)\n",
    "        output = self.out(output).squeeze()\n",
    "        return output,last_layer1,last_layer2,output1,output2\n",
    "        \n",
    "cnn_siamese = CNN_Siamese()\n",
    "pytorch_total_params = sum(p.numel() for p in cnn_siamese.parameters() if p.requires_grad)\n",
    "print(pytorch_total_params)\n",
    "print(cnn_siamese)  # net architecture"
   ]
  },
  {
   "cell_type": "code",
   "execution_count": 8,
   "metadata": {},
   "outputs": [],
   "source": [
    "train_input, train_target, train_classes, test_input, test_target, test_classes = helper.generate_pair_sets(1000)\n",
    "\n",
    "augumented_data = rotated_dataset(train_input).__rotate__()\n",
    "shuffle_index = torch.randperm(1000)\n",
    "train_input = torch.cat((train_input,augumented_data.data),0)\n",
    "train_classes = torch.cat((train_classes, train_classes), 0)\n",
    "train_target = torch.cat((train_target, train_target), 0)\n",
    "\n",
    "train_input, train_classes, train_target = train_input[shuffle_index], train_classes[shuffle_index], train_target[shuffle_index]\n",
    "\n",
    "# augumented_data = rotated_dataset(test_input).__rotate__()\n",
    "augumented_data = test_input\n",
    "shuffle_index = torch.randperm(1000)\n",
    "test_input = torch.cat((test_input,augumented_data.data),0)\n",
    "test_classes = torch.cat((test_classes, test_classes), 0)\n",
    "test_target = torch.cat((test_target, test_target), 0)\n",
    "test_input, test_classes, test_target = test_input[shuffle_index], test_classes[shuffle_index], test_target[shuffle_index]\n"
   ]
  },
  {
   "cell_type": "code",
   "execution_count": 9,
   "metadata": {},
   "outputs": [],
   "source": [
    "train_set = {}\n",
    "train_set['input'] = train_input\n",
    "train_set['classes'] = train_classes\n",
    "train_set['target'] = train_target\n",
    "\n",
    "test_set = {}\n",
    "test_set['input'] = test_input\n",
    "test_set['classes'] = test_classes\n",
    "test_set['target'] = test_target"
   ]
  },
  {
   "cell_type": "code",
   "execution_count": 10,
   "metadata": {},
   "outputs": [],
   "source": [
    "images = augumented_data.data.narrow(0,0,9).narrow(1,0,1)\n",
    "labels = test_classes.narrow(0,0,9).narrow(1,0,1)"
   ]
  },
  {
   "cell_type": "code",
   "execution_count": 11,
   "metadata": {},
   "outputs": [
    {
     "data": {
      "image/png": "[encoded data removed]",
      "text/plain": [
       "<Figure size 432x288 with 9 Axes>"
      ]
     },
     "metadata": {},
     "output_type": "display_data"
    }
   ],
   "source": [
    "plot_images(images,labels)"
   ]
  },
  {
   "cell_type": "code",
   "execution_count": 12,
   "metadata": {},
   "outputs": [
    {
     "data": {
      "image/png": "[encoded data removed]",
      "text/plain": [
       "<Figure size 432x288 with 9 Axes>"
      ]
     },
     "metadata": {},
     "output_type": "display_data"
    }
   ],
   "source": [
    "plot_images(test_input.narrow(0,0,9).narrow(1,0,1),labels)"
   ]
  },
  {
   "cell_type": "markdown",
   "metadata": {},
   "source": [
    "---"
   ]
  },
  {
   "cell_type": "code",
   "execution_count": 13,
   "metadata": {},
   "outputs": [],
   "source": [
    "def ModelTest(model_,train_set,test_set,auxiliary_loss,mini_batch_size=100,EPOCH=25,LR=0.001):\n",
    "    \n",
    "    model = model_\n",
    "    \n",
    "    optimizer = torch.optim.Adam(model.parameters(), lr=LR)   # optimize all cnn parameters\n",
    "    criterion = nn.CrossEntropyLoss()                       # the target label is not one-hotted\n",
    "\n",
    "    train_input = train_set['input']\n",
    "    train_classes = train_set['classes']\n",
    "    train_target = train_set['target']\n",
    "    \n",
    "    test_input = test_set['input']\n",
    "    test_classes = test_set['classes']\n",
    "    test_target = test_set['target']\n",
    "    \n",
    "    for epoch in range(EPOCH):\n",
    "        for b in range(0, train_input.size(0), mini_batch_size):   # gives batch data, normalize x when iterate train_loader\n",
    "\n",
    "            x_tr = train_input.narrow(0, b, mini_batch_size)\n",
    "            y_tr_class = train_classes.narrow(0, b, mini_batch_size)\n",
    "            y_tr_target = train_target.narrow(0, b, mini_batch_size)#.float()\n",
    "            x_tr = Variable(x_tr)   # batch x\n",
    "            y_tr_class = Variable(y_tr_class)   # batch y\n",
    "            \n",
    "            if auxiliary_loss:\n",
    "                if model_.__class__.__name__ == 'baseline':\n",
    "                    output,last_layer1 = model(x_tr)[0:2]\n",
    "                    loss = criterion(last_layer1, y_tr_class.narrow(1,0,1).squeeze()) + criterion(output, y_tr_target)\n",
    "                else:\n",
    "                    output,last_layer1,last_layer2,output1,output2 = model(x_tr)               # cnn output\n",
    "                    auxiliary_loss = criterion(output1, y_tr_class.narrow(1,0,1).squeeze())+criterion(output2, y_tr_class.narrow(1,1,1).squeeze())\n",
    "                    loss = auxiliary_loss + 0.3*criterion(output,y_tr_target)   # cross entropy loss\n",
    "            else:\n",
    "                output,last_layer1 = model(x_tr)[0:2]               # cnn output\n",
    "                loss = criterion(output, y_tr_target)   # cross entropy loss                \n",
    "            \n",
    "            optimizer.zero_grad()           # clear gradients for this training step\n",
    "            loss.backward()                 # backpropagation, compute gradients\n",
    "            optimizer.step()                # apply gradients\n",
    "\n",
    "        train_error_mean,train_error_std = compute_nb_errors(model, train_input, train_target)\n",
    "        test_error_mean, test_error_std = compute_nb_errors(model, test_input, test_target)\n",
    "\n",
    "        print('Epoch: ', epoch, '| train loss: %.4f' % loss.data.item(), '| train error: %.2f' % train_error_mean)\n",
    "        print('Epoch: ', epoch, '| test error: %.2f' % test_error_mean,'|standard deviation: %.2f'%test_error_std,'\\n\\n')\n",
    "    \n",
    "    return model, last_layer1"
   ]
  },
  {
   "cell_type": "code",
   "execution_count": 15,
   "metadata": {
    "scrolled": true
   },
   "outputs": [
    {
     "name": "stdout",
     "output_type": "stream",
     "text": [
      "Epoch:  0 | train loss: 0.5829 | train error: 0.32\n",
      "Epoch:  0 | test error: 0.34 |standard deviation: 0.07 \n",
      "\n",
      "\n",
      "Epoch:  1 | train loss: 0.3886 | train error: 0.19\n",
      "Epoch:  1 | test error: 0.25 |standard deviation: 0.05 \n",
      "\n",
      "\n",
      "Epoch:  2 | train loss: 0.2601 | train error: 0.14\n",
      "Epoch:  2 | test error: 0.22 |standard deviation: 0.05 \n",
      "\n",
      "\n",
      "Epoch:  3 | train loss: 0.1952 | train error: 0.10\n",
      "Epoch:  3 | test error: 0.21 |standard deviation: 0.06 \n",
      "\n",
      "\n",
      "Epoch:  4 | train loss: 0.1242 | train error: 0.05\n",
      "Epoch:  4 | test error: 0.20 |standard deviation: 0.05 \n",
      "\n",
      "\n",
      "Epoch:  5 | train loss: 0.0728 | train error: 0.02\n",
      "Epoch:  5 | test error: 0.18 |standard deviation: 0.04 \n",
      "\n",
      "\n",
      "Epoch:  6 | train loss: 0.0345 | train error: 0.00\n",
      "Epoch:  6 | test error: 0.19 |standard deviation: 0.05 \n",
      "\n",
      "\n",
      "Epoch:  7 | train loss: 0.0139 | train error: 0.00\n",
      "Epoch:  7 | test error: 0.20 |standard deviation: 0.05 \n",
      "\n",
      "\n",
      "Epoch:  8 | train loss: 0.0061 | train error: 0.00\n",
      "Epoch:  8 | test error: 0.19 |standard deviation: 0.05 \n",
      "\n",
      "\n",
      "Epoch:  9 | train loss: 0.0026 | train error: 0.00\n",
      "Epoch:  9 | test error: 0.20 |standard deviation: 0.05 \n",
      "\n",
      "\n",
      "Epoch:  10 | train loss: 0.0015 | train error: 0.00\n",
      "Epoch:  10 | test error: 0.20 |standard deviation: 0.06 \n",
      "\n",
      "\n",
      "Epoch:  11 | train loss: 0.0011 | train error: 0.00\n",
      "Epoch:  11 | test error: 0.19 |standard deviation: 0.06 \n",
      "\n",
      "\n",
      "Epoch:  12 | train loss: 0.0009 | train error: 0.00\n",
      "Epoch:  12 | test error: 0.20 |standard deviation: 0.05 \n",
      "\n",
      "\n",
      "Epoch:  13 | train loss: 0.0007 | train error: 0.00\n",
      "Epoch:  13 | test error: 0.19 |standard deviation: 0.05 \n",
      "\n",
      "\n",
      "Epoch:  14 | train loss: 0.0006 | train error: 0.00\n",
      "Epoch:  14 | test error: 0.19 |standard deviation: 0.05 \n",
      "\n",
      "\n",
      "Epoch:  15 | train loss: 0.0005 | train error: 0.00\n",
      "Epoch:  15 | test error: 0.19 |standard deviation: 0.05 \n",
      "\n",
      "\n",
      "Epoch:  16 | train loss: 0.0004 | train error: 0.00\n",
      "Epoch:  16 | test error: 0.19 |standard deviation: 0.05 \n",
      "\n",
      "\n",
      "Epoch:  17 | train loss: 0.0004 | train error: 0.00\n",
      "Epoch:  17 | test error: 0.19 |standard deviation: 0.05 \n",
      "\n",
      "\n",
      "Epoch:  18 | train loss: 0.0004 | train error: 0.00\n",
      "Epoch:  18 | test error: 0.19 |standard deviation: 0.05 \n",
      "\n",
      "\n",
      "Epoch:  19 | train loss: 0.0003 | train error: 0.00\n",
      "Epoch:  19 | test error: 0.19 |standard deviation: 0.05 \n",
      "\n",
      "\n",
      "Epoch:  20 | train loss: 0.0003 | train error: 0.00\n",
      "Epoch:  20 | test error: 0.19 |standard deviation: 0.05 \n",
      "\n",
      "\n",
      "Epoch:  21 | train loss: 0.0003 | train error: 0.00\n",
      "Epoch:  21 | test error: 0.19 |standard deviation: 0.05 \n",
      "\n",
      "\n",
      "Epoch:  22 | train loss: 0.0002 | train error: 0.00\n",
      "Epoch:  22 | test error: 0.20 |standard deviation: 0.05 \n",
      "\n",
      "\n",
      "Epoch:  23 | train loss: 0.0002 | train error: 0.00\n",
      "Epoch:  23 | test error: 0.20 |standard deviation: 0.05 \n",
      "\n",
      "\n",
      "Epoch:  24 | train loss: 0.0002 | train error: 0.00\n",
      "Epoch:  24 | test error: 0.19 |standard deviation: 0.05 \n",
      "\n",
      "\n"
     ]
    }
   ],
   "source": [
    "model_siamese_noaux, last_layer_siamese_noaux = ModelTest(CNN_Siamese(),train_set,test_set,\n",
    "                                           auxiliary_loss=False,mini_batch_size=100,EPOCH=25,LR=0.001)"
   ]
  },
  {
   "cell_type": "code",
   "execution_count": 14,
   "metadata": {
    "scrolled": true
   },
   "outputs": [
    {
     "name": "stdout",
     "output_type": "stream",
     "text": [
      "Epoch:  0 | train loss: 3.0712 | train error: 0.50\n",
      "Epoch:  0 | test error: 0.53 |standard deviation: 0.07 \n",
      "\n",
      "\n",
      "Epoch:  1 | train loss: 1.7200 | train error: 0.48\n",
      "Epoch:  1 | test error: 0.50 |standard deviation: 0.07 \n",
      "\n",
      "\n",
      "Epoch:  2 | train loss: 1.0713 | train error: 0.44\n",
      "Epoch:  2 | test error: 0.45 |standard deviation: 0.08 \n",
      "\n",
      "\n",
      "Epoch:  3 | train loss: 0.7855 | train error: 0.38\n",
      "Epoch:  3 | test error: 0.38 |standard deviation: 0.06 \n",
      "\n",
      "\n",
      "Epoch:  4 | train loss: 0.6056 | train error: 0.32\n",
      "Epoch:  4 | test error: 0.34 |standard deviation: 0.05 \n",
      "\n",
      "\n",
      "Epoch:  5 | train loss: 0.4618 | train error: 0.28\n",
      "Epoch:  5 | test error: 0.29 |standard deviation: 0.05 \n",
      "\n",
      "\n",
      "Epoch:  6 | train loss: 0.3640 | train error: 0.25\n",
      "Epoch:  6 | test error: 0.25 |standard deviation: 0.06 \n",
      "\n",
      "\n",
      "Epoch:  7 | train loss: 0.2959 | train error: 0.21\n",
      "Epoch:  7 | test error: 0.22 |standard deviation: 0.05 \n",
      "\n",
      "\n",
      "Epoch:  8 | train loss: 0.2407 | train error: 0.18\n",
      "Epoch:  8 | test error: 0.20 |standard deviation: 0.05 \n",
      "\n",
      "\n",
      "Epoch:  9 | train loss: 0.1975 | train error: 0.15\n",
      "Epoch:  9 | test error: 0.19 |standard deviation: 0.04 \n",
      "\n",
      "\n",
      "Epoch:  10 | train loss: 0.1646 | train error: 0.12\n",
      "Epoch:  10 | test error: 0.19 |standard deviation: 0.04 \n",
      "\n",
      "\n",
      "Epoch:  11 | train loss: 0.1373 | train error: 0.11\n",
      "Epoch:  11 | test error: 0.18 |standard deviation: 0.05 \n",
      "\n",
      "\n",
      "Epoch:  12 | train loss: 0.1142 | train error: 0.10\n",
      "Epoch:  12 | test error: 0.17 |standard deviation: 0.05 \n",
      "\n",
      "\n",
      "Epoch:  13 | train loss: 0.0962 | train error: 0.08\n",
      "Epoch:  13 | test error: 0.16 |standard deviation: 0.04 \n",
      "\n",
      "\n",
      "Epoch:  14 | train loss: 0.0814 | train error: 0.07\n",
      "Epoch:  14 | test error: 0.15 |standard deviation: 0.04 \n",
      "\n",
      "\n",
      "Epoch:  15 | train loss: 0.0690 | train error: 0.05\n",
      "Epoch:  15 | test error: 0.14 |standard deviation: 0.04 \n",
      "\n",
      "\n",
      "Epoch:  16 | train loss: 0.0584 | train error: 0.04\n",
      "Epoch:  16 | test error: 0.14 |standard deviation: 0.04 \n",
      "\n",
      "\n",
      "Epoch:  17 | train loss: 0.0494 | train error: 0.03\n",
      "Epoch:  17 | test error: 0.14 |standard deviation: 0.05 \n",
      "\n",
      "\n",
      "Epoch:  18 | train loss: 0.0418 | train error: 0.03\n",
      "Epoch:  18 | test error: 0.15 |standard deviation: 0.05 \n",
      "\n",
      "\n",
      "Epoch:  19 | train loss: 0.0353 | train error: 0.02\n",
      "Epoch:  19 | test error: 0.14 |standard deviation: 0.05 \n",
      "\n",
      "\n",
      "Epoch:  20 | train loss: 0.0296 | train error: 0.01\n",
      "Epoch:  20 | test error: 0.14 |standard deviation: 0.05 \n",
      "\n",
      "\n",
      "Epoch:  21 | train loss: 0.0246 | train error: 0.01\n",
      "Epoch:  21 | test error: 0.14 |standard deviation: 0.05 \n",
      "\n",
      "\n",
      "Epoch:  22 | train loss: 0.0208 | train error: 0.00\n",
      "Epoch:  22 | test error: 0.14 |standard deviation: 0.05 \n",
      "\n",
      "\n",
      "Epoch:  23 | train loss: 0.0175 | train error: 0.00\n",
      "Epoch:  23 | test error: 0.14 |standard deviation: 0.05 \n",
      "\n",
      "\n",
      "Epoch:  24 | train loss: 0.0151 | train error: 0.00\n",
      "Epoch:  24 | test error: 0.14 |standard deviation: 0.05 \n",
      "\n",
      "\n"
     ]
    }
   ],
   "source": [
    "model_siamese, last_layer_siamese = ModelTest(CNN_Siamese(),train_set,test_set,\n",
    "                                           auxiliary_loss=True,mini_batch_size=100,EPOCH=25,LR=0.001)"
   ]
  },
  {
   "cell_type": "code",
   "execution_count": 16,
   "metadata": {
    "scrolled": true
   },
   "outputs": [
    {
     "name": "stdout",
     "output_type": "stream",
     "text": [
      "Epoch:  0 | train loss: 0.5909 | train error: 0.29\n",
      "Epoch:  0 | test error: 0.31 |standard deviation: 0.07 \n",
      "\n",
      "\n",
      "Epoch:  1 | train loss: 0.4185 | train error: 0.22\n",
      "Epoch:  1 | test error: 0.26 |standard deviation: 0.06 \n",
      "\n",
      "\n",
      "Epoch:  2 | train loss: 0.3091 | train error: 0.15\n",
      "Epoch:  2 | test error: 0.23 |standard deviation: 0.05 \n",
      "\n",
      "\n",
      "Epoch:  3 | train loss: 0.2364 | train error: 0.08\n",
      "Epoch:  3 | test error: 0.23 |standard deviation: 0.05 \n",
      "\n",
      "\n",
      "Epoch:  4 | train loss: 0.1609 | train error: 0.04\n",
      "Epoch:  4 | test error: 0.24 |standard deviation: 0.06 \n",
      "\n",
      "\n",
      "Epoch:  5 | train loss: 0.0650 | train error: 0.15\n",
      "Epoch:  5 | test error: 0.29 |standard deviation: 0.08 \n",
      "\n",
      "\n",
      "Epoch:  6 | train loss: 0.0914 | train error: 0.01\n",
      "Epoch:  6 | test error: 0.23 |standard deviation: 0.05 \n",
      "\n",
      "\n",
      "Epoch:  7 | train loss: 0.0169 | train error: 0.03\n",
      "Epoch:  7 | test error: 0.27 |standard deviation: 0.06 \n",
      "\n",
      "\n",
      "Epoch:  8 | train loss: 0.0185 | train error: 0.07\n",
      "Epoch:  8 | test error: 0.27 |standard deviation: 0.07 \n",
      "\n",
      "\n",
      "Epoch:  9 | train loss: 0.0045 | train error: 0.12\n",
      "Epoch:  9 | test error: 0.30 |standard deviation: 0.08 \n",
      "\n",
      "\n",
      "Epoch:  10 | train loss: 0.0331 | train error: 0.14\n",
      "Epoch:  10 | test error: 0.29 |standard deviation: 0.07 \n",
      "\n",
      "\n",
      "Epoch:  11 | train loss: 0.3077 | train error: 0.03\n",
      "Epoch:  11 | test error: 0.23 |standard deviation: 0.06 \n",
      "\n",
      "\n",
      "Epoch:  12 | train loss: 1.4687 | train error: 0.31\n",
      "Epoch:  12 | test error: 0.40 |standard deviation: 0.07 \n",
      "\n",
      "\n",
      "Epoch:  13 | train loss: 0.2801 | train error: 0.05\n",
      "Epoch:  13 | test error: 0.25 |standard deviation: 0.06 \n",
      "\n",
      "\n",
      "Epoch:  14 | train loss: 0.1438 | train error: 0.06\n",
      "Epoch:  14 | test error: 0.26 |standard deviation: 0.05 \n",
      "\n",
      "\n",
      "Epoch:  15 | train loss: 0.0665 | train error: 0.01\n",
      "Epoch:  15 | test error: 0.23 |standard deviation: 0.06 \n",
      "\n",
      "\n",
      "Epoch:  16 | train loss: 0.0326 | train error: 0.00\n",
      "Epoch:  16 | test error: 0.22 |standard deviation: 0.06 \n",
      "\n",
      "\n",
      "Epoch:  17 | train loss: 0.0225 | train error: 0.00\n",
      "Epoch:  17 | test error: 0.22 |standard deviation: 0.05 \n",
      "\n",
      "\n",
      "Epoch:  18 | train loss: 0.0140 | train error: 0.00\n",
      "Epoch:  18 | test error: 0.22 |standard deviation: 0.06 \n",
      "\n",
      "\n",
      "Epoch:  19 | train loss: 0.0102 | train error: 0.00\n",
      "Epoch:  19 | test error: 0.22 |standard deviation: 0.06 \n",
      "\n",
      "\n",
      "Epoch:  20 | train loss: 0.0073 | train error: 0.00\n",
      "Epoch:  20 | test error: 0.22 |standard deviation: 0.06 \n",
      "\n",
      "\n",
      "Epoch:  21 | train loss: 0.0057 | train error: 0.00\n",
      "Epoch:  21 | test error: 0.23 |standard deviation: 0.06 \n",
      "\n",
      "\n",
      "Epoch:  22 | train loss: 0.0046 | train error: 0.00\n",
      "Epoch:  22 | test error: 0.22 |standard deviation: 0.06 \n",
      "\n",
      "\n",
      "Epoch:  23 | train loss: 0.0038 | train error: 0.00\n",
      "Epoch:  23 | test error: 0.22 |standard deviation: 0.06 \n",
      "\n",
      "\n",
      "Epoch:  24 | train loss: 0.0032 | train error: 0.00\n",
      "Epoch:  24 | test error: 0.22 |standard deviation: 0.06 \n",
      "\n",
      "\n"
     ]
    }
   ],
   "source": [
    "model_base, last_layer_base = ModelTest(baseline(),train_set,test_set,\n",
    "                                           auxiliary_loss=False,mini_batch_size=100,EPOCH=25,LR=0.001)"
   ]
  },
  {
   "cell_type": "code",
   "execution_count": 17,
   "metadata": {
    "scrolled": true
   },
   "outputs": [
    {
     "name": "stdout",
     "output_type": "stream",
     "text": [
      "Epoch:  0 | train loss: 2.8754 | train error: 0.41\n",
      "Epoch:  0 | test error: 0.41 |standard deviation: 0.09 \n",
      "\n",
      "\n",
      "Epoch:  1 | train loss: 2.4997 | train error: 0.33\n",
      "Epoch:  1 | test error: 0.35 |standard deviation: 0.08 \n",
      "\n",
      "\n",
      "Epoch:  2 | train loss: 2.0532 | train error: 0.29\n",
      "Epoch:  2 | test error: 0.31 |standard deviation: 0.07 \n",
      "\n",
      "\n",
      "Epoch:  3 | train loss: 1.6834 | train error: 0.25\n",
      "Epoch:  3 | test error: 0.28 |standard deviation: 0.07 \n",
      "\n",
      "\n",
      "Epoch:  4 | train loss: 1.3442 | train error: 0.21\n",
      "Epoch:  4 | test error: 0.26 |standard deviation: 0.07 \n",
      "\n",
      "\n",
      "Epoch:  5 | train loss: 1.0678 | train error: 0.17\n",
      "Epoch:  5 | test error: 0.25 |standard deviation: 0.07 \n",
      "\n",
      "\n",
      "Epoch:  6 | train loss: 0.8344 | train error: 0.14\n",
      "Epoch:  6 | test error: 0.24 |standard deviation: 0.07 \n",
      "\n",
      "\n",
      "Epoch:  7 | train loss: 0.6441 | train error: 0.10\n",
      "Epoch:  7 | test error: 0.23 |standard deviation: 0.06 \n",
      "\n",
      "\n",
      "Epoch:  8 | train loss: 0.4877 | train error: 0.07\n",
      "Epoch:  8 | test error: 0.22 |standard deviation: 0.06 \n",
      "\n",
      "\n",
      "Epoch:  9 | train loss: 0.3564 | train error: 0.04\n",
      "Epoch:  9 | test error: 0.22 |standard deviation: 0.06 \n",
      "\n",
      "\n",
      "Epoch:  10 | train loss: 0.2520 | train error: 0.02\n",
      "Epoch:  10 | test error: 0.23 |standard deviation: 0.05 \n",
      "\n",
      "\n",
      "Epoch:  11 | train loss: 0.1716 | train error: 0.02\n",
      "Epoch:  11 | test error: 0.24 |standard deviation: 0.05 \n",
      "\n",
      "\n",
      "Epoch:  12 | train loss: 0.1238 | train error: 0.02\n",
      "Epoch:  12 | test error: 0.24 |standard deviation: 0.06 \n",
      "\n",
      "\n",
      "Epoch:  13 | train loss: 0.1003 | train error: 0.06\n",
      "Epoch:  13 | test error: 0.26 |standard deviation: 0.07 \n",
      "\n",
      "\n",
      "Epoch:  14 | train loss: 0.0722 | train error: 0.09\n",
      "Epoch:  14 | test error: 0.27 |standard deviation: 0.08 \n",
      "\n",
      "\n",
      "Epoch:  15 | train loss: 0.1016 | train error: 0.14\n",
      "Epoch:  15 | test error: 0.29 |standard deviation: 0.08 \n",
      "\n",
      "\n",
      "Epoch:  16 | train loss: 0.0803 | train error: 0.28\n",
      "Epoch:  16 | test error: 0.35 |standard deviation: 0.08 \n",
      "\n",
      "\n",
      "Epoch:  17 | train loss: 0.0652 | train error: 0.14\n",
      "Epoch:  17 | test error: 0.29 |standard deviation: 0.08 \n",
      "\n",
      "\n",
      "Epoch:  18 | train loss: 0.2145 | train error: 0.09\n",
      "Epoch:  18 | test error: 0.26 |standard deviation: 0.06 \n",
      "\n",
      "\n",
      "Epoch:  19 | train loss: 2.1786 | train error: 0.26\n",
      "Epoch:  19 | test error: 0.39 |standard deviation: 0.07 \n",
      "\n",
      "\n",
      "Epoch:  20 | train loss: 0.3678 | train error: 0.05\n",
      "Epoch:  20 | test error: 0.23 |standard deviation: 0.05 \n",
      "\n",
      "\n",
      "Epoch:  21 | train loss: 0.2196 | train error: 0.04\n",
      "Epoch:  21 | test error: 0.24 |standard deviation: 0.05 \n",
      "\n",
      "\n",
      "Epoch:  22 | train loss: 0.1544 | train error: 0.02\n",
      "Epoch:  22 | test error: 0.23 |standard deviation: 0.06 \n",
      "\n",
      "\n",
      "Epoch:  23 | train loss: 0.0726 | train error: 0.00\n",
      "Epoch:  23 | test error: 0.22 |standard deviation: 0.05 \n",
      "\n",
      "\n",
      "Epoch:  24 | train loss: 0.0460 | train error: 0.00\n",
      "Epoch:  24 | test error: 0.21 |standard deviation: 0.05 \n",
      "\n",
      "\n"
     ]
    }
   ],
   "source": [
    "model_base_AL, last_layer_base_AL = ModelTest(baseline(),train_set,test_set,\n",
    "                                           auxiliary_loss=True,mini_batch_size=100,EPOCH=25,LR=0.001)"
   ]
  },
  {
   "cell_type": "code",
   "execution_count": null,
   "metadata": {},
   "outputs": [],
   "source": []
  },
  {
   "cell_type": "code",
   "execution_count": null,
   "metadata": {},
   "outputs": [],
   "source": []
  },
  {
   "cell_type": "code",
   "execution_count": 18,
   "metadata": {},
   "outputs": [],
   "source": [
    "# following function (plot_with_labels) is for visualization, can be ignored if not interested\n",
    "from matplotlib import cm\n",
    "from sklearn.manifold import TSNE\n",
    "\n",
    "def plot_with_labels(lowDWeights, labels,title):\n",
    "    plt.figure(figsize=(10,6))\n",
    "    plt.cla()\n",
    "    X, Y = lowDWeights[:, 0], lowDWeights[:, 1]\n",
    "    for x, y, s in zip(X, Y, labels):\n",
    "        c = cm.rainbow(int(255 * s / 9)); plt.text(x, y, s, backgroundcolor=c, fontsize=9)\n",
    "    plt.xlim(X.min(), X.max()); plt.ylim(Y.min(), Y.max()); plt.title('Visualize last layer of %s'%title)\n",
    "    plt.savefig(title+'.jpg')\n",
    "    plt.show(); plt.pause(0.01)\n",
    "plt.ion()"
   ]
  },
  {
   "cell_type": "code",
   "execution_count": 19,
   "metadata": {},
   "outputs": [
    {
     "data": {
      "image/png": "[encoded data removed]",
      "text/plain": [
       "<Figure size 720x432 with 1 Axes>"
      ]
     },
     "metadata": {
      "needs_background": "light"
     },
     "output_type": "display_data"
    }
   ],
   "source": [
    "last_layer = last_layer_siamese\n",
    "y_tr_class = train_classes.narrow(0, 900, 100)\n",
    "tsne = TSNE(perplexity=50, n_components=2, init='pca', n_iter=5000)\n",
    "plot_only = 500\n",
    "low_dim_embs = tsne.fit_transform(last_layer.data.numpy()[:plot_only, :])\n",
    "labels = y_tr_class.narrow(1,0,1).squeeze().numpy()[:plot_only]\n",
    "plot_with_labels(low_dim_embs, labels,'Siamese network with auxiliary loss')\n",
    "plt.ioff()\n"
   ]
  },
  {
   "cell_type": "code",
   "execution_count": 20,
   "metadata": {},
   "outputs": [
    {
     "data": {
      "image/png": "[encoded data removed]",
      "text/plain": [
       "<Figure size 720x432 with 1 Axes>"
      ]
     },
     "metadata": {
      "needs_background": "light"
     },
     "output_type": "display_data"
    }
   ],
   "source": [
    "last_layer = last_layer_siamese_noaux\n",
    "\n",
    "tsne = TSNE(perplexity=50, n_components=2, init='pca', n_iter=5000)\n",
    "plot_only = 500\n",
    "low_dim_embs = tsne.fit_transform(last_layer.data.numpy()[:plot_only, :])\n",
    "labels = y_tr_class.narrow(1,0,1).squeeze().numpy()[:plot_only]\n",
    "plot_with_labels(low_dim_embs, labels,'Siamese Network without auxiliary loss')\n",
    "plt.ioff()"
   ]
  },
  {
   "cell_type": "code",
   "execution_count": 21,
   "metadata": {},
   "outputs": [
    {
     "data": {
      "image/png": "[encoded data removed]",
      "text/plain": [
       "<Figure size 720x432 with 1 Axes>"
      ]
     },
     "metadata": {
      "needs_background": "light"
     },
     "output_type": "display_data"
    }
   ],
   "source": [
    "last_layer = last_layer_base\n",
    "\n",
    "tsne = TSNE(perplexity=30, n_components=2, init='pca', n_iter=5000)\n",
    "plot_only = 500\n",
    "low_dim_embs = tsne.fit_transform(last_layer.data.numpy()[:plot_only, :])\n",
    "labels = y_tr_class.narrow(1,0,1).squeeze().numpy()[:plot_only]\n",
    "plot_with_labels(low_dim_embs, labels,'Baseline')\n",
    "plt.ioff()\n"
   ]
  },
  {
   "cell_type": "code",
   "execution_count": 22,
   "metadata": {
    "scrolled": false
   },
   "outputs": [
    {
     "data": {
      "image/png": "[encoded data removed]",
      "text/plain": [
       "<Figure size 720x432 with 1 Axes>"
      ]
     },
     "metadata": {
      "needs_background": "light"
     },
     "output_type": "display_data"
    }
   ],
   "source": [
    "last_layer = last_layer_base_AL\n",
    "\n",
    "tsne = TSNE(perplexity=30, n_components=2, init='pca', n_iter=5000)\n",
    "plot_only = 500\n",
    "low_dim_embs = tsne.fit_transform(last_layer.data.numpy()[:plot_only, :])\n",
    "labels = y_tr_class.narrow(1,0,1).squeeze().numpy()[:plot_only]\n",
    "plot_with_labels(low_dim_embs, labels,'Baseline with auxiliary loss')\n",
    "plt.ioff()\n"
   ]
  },
  {
   "cell_type": "code",
   "execution_count": 26,
   "metadata": {},
   "outputs": [
    {
     "data": {
      "text/plain": [
       "torch.Size([100, 20])"
      ]
     },
     "execution_count": 26,
     "metadata": {},
     "output_type": "execute_result"
    }
   ],
   "source": [
    "last_layer_base.data.shape"
   ]
  },
  {
   "cell_type": "code",
   "execution_count": 23,
   "metadata": {},
   "outputs": [
    {
     "data": {
      "text/plain": [
       "torch.Size([100, 20])"
      ]
     },
     "execution_count": 23,
     "metadata": {},
     "output_type": "execute_result"
    }
   ],
   "source": [
    "last_layer_base_AL.data.shape"
   ]
  },
  {
   "cell_type": "code",
   "execution_count": 24,
   "metadata": {
    "scrolled": true
   },
   "outputs": [
    {
     "data": {
      "text/plain": [
       "torch.Size([100, 64])"
      ]
     },
     "execution_count": 24,
     "metadata": {},
     "output_type": "execute_result"
    }
   ],
   "source": [
    "last_layer_siamese.data.shape"
   ]
  },
  {
   "cell_type": "code",
   "execution_count": 25,
   "metadata": {},
   "outputs": [
    {
     "data": {
      "text/plain": [
       "torch.Size([100, 64])"
      ]
     },
     "execution_count": 25,
     "metadata": {},
     "output_type": "execute_result"
    }
   ],
   "source": [
    "last_layer_siamese_noaux.data.shape"
   ]
  },
  {
   "cell_type": "markdown",
   "metadata": {},
   "source": [
    "---"
   ]
  }
 ],
 "metadata": {
  "kernelspec": {
   "display_name": "Python (dl)",
   "language": "python",
   "name": "dl"
  },
  "language_info": {
   "codemirror_mode": {
    "name": "ipython",
    "version": 3
   },
   "file_extension": ".py",
   "mimetype": "text/x-python",
   "name": "python",
   "nbconvert_exporter": "python",
   "pygments_lexer": "ipython3",
   "version": "3.7.2"
  }
 },
 "nbformat": 4,
 "nbformat_minor": 2
}
