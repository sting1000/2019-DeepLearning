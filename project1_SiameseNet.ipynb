{
 "cells": [
  {
   "cell_type": "markdown",
   "metadata": {},
   "source": [
    "1. Drop out;\n",
    "2. Data augmentation;\n",
    "3. Weight sharing."
   ]
  },
  {
   "cell_type": "code",
   "execution_count": 1,
   "metadata": {},
   "outputs": [],
   "source": [
    "# library\n",
    "# standard library\n",
    "import os\n",
    "\n",
    "# third-party library\n",
    "import torch\n",
    "import torch.nn as nn\n",
    "from torch.autograd import Variable\n",
    "import torch.utils.data as Data\n",
    "import torchvision\n",
    "import matplotlib.pyplot as plt"
   ]
  },
  {
   "cell_type": "code",
   "execution_count": 2,
   "metadata": {},
   "outputs": [],
   "source": [
    "import dlc_practical_prologue as helper"
   ]
  },
  {
   "cell_type": "markdown",
   "metadata": {},
   "source": [
    "---\n",
    "### Siamese network with auxiliary loss\n",
    "\n",
    "We do not use drop out in siamese network because we cannot promise for one pair of images, for each image the same nodes are dropped out."
   ]
  },
  {
   "cell_type": "code",
   "execution_count": 17,
   "metadata": {},
   "outputs": [],
   "source": [
    "import torchvision.transforms as transforms\n",
    "class rotated_dataset(Data.Dataset):\n",
    "\n",
    "    def __init__(self, data, transform):\n",
    "        self.data = data\n",
    "        self.transform = transform\n",
    "\n",
    "    def __len__(self):\n",
    "        return len(self.data.shape[0])\n",
    "\n",
    "    def __getitem__(self, idx):\n",
    "        item = self.data[idx]\n",
    "        item = self.transform(item)\n",
    "        return item\n",
    "\n",
    "transform = transforms.Compose([\n",
    "    transforms.ToPILImage(),\n",
    "    transforms.RandomRotation(10),\n",
    "    transforms.ToTensor()\n",
    "])"
   ]
  },
  {
   "cell_type": "code",
   "execution_count": 250,
   "metadata": {},
   "outputs": [],
   "source": [
    "def compute_nb_errors(model, input, target, mini_batch_size):\n",
    "    nb_errors = 0\n",
    "    for b in range(0, input.size(0), mini_batch_size):\n",
    "        output,_,_,_,_ = model(input.narrow(0, b, mini_batch_size))\n",
    "        target_patch = target.narrow(0, b, mini_batch_size)#.float()\n",
    "        _,output = output.max(1)\n",
    "        nb_errors += (output != target_patch).sum().data.item()\n",
    "    return nb_errors/target.shape[0]"
   ]
  },
  {
   "cell_type": "code",
   "execution_count": 206,
   "metadata": {
    "scrolled": true
   },
   "outputs": [
    {
     "name": "stdout",
     "output_type": "stream",
     "text": [
      "CNN_Siamese(\n",
      "  (conv1): Sequential(\n",
      "    (0): Conv2d(1, 32, kernel_size=(2, 2), stride=(1, 1))\n",
      "    (1): ReLU()\n",
      "    (2): MaxPool2d(kernel_size=2, stride=2, padding=0, dilation=1, ceil_mode=False)\n",
      "  )\n",
      "  (conv2): Sequential(\n",
      "    (0): Conv2d(32, 64, kernel_size=(2, 2), stride=(1, 1), padding=(1, 1))\n",
      "    (1): ReLU()\n",
      "    (2): MaxPool2d(kernel_size=2, stride=2, padding=0, dilation=1, ceil_mode=False)\n",
      "  )\n",
      "  (conv3): Sequential(\n",
      "    (0): Conv2d(64, 128, kernel_size=(2, 2), stride=(1, 1), padding=(1, 1))\n",
      "    (1): ReLU()\n",
      "    (2): MaxPool2d(kernel_size=2, stride=2, padding=0, dilation=1, ceil_mode=False)\n",
      "  )\n",
      "  (fc1): Linear(in_features=512, out_features=64, bias=True)\n",
      "  (fc2): Linear(in_features=64, out_features=10, bias=True)\n",
      "  (out): Linear(in_features=20, out_features=2, bias=True)\n",
      ")\n"
     ]
    }
   ],
   "source": [
    "class CNN_Siamese(nn.Module):\n",
    "    def __init__(self):\n",
    "        super(CNN_Siamese, self).__init__()\n",
    "        self.conv1 = nn.Sequential(         # input shape (2, 14, 14)\n",
    "            nn.Conv2d(\n",
    "                in_channels=1,              # input height\n",
    "                out_channels=32,            # n_filters\n",
    "                kernel_size=2,              # filter size\n",
    "                stride=1                   # filter movement/step\n",
    "                              # if want same width and length of this image after con2d, padding=(kernel_size-1)/2 if stride=1\n",
    "            ),                              # output shape (16, 28, 28)\n",
    "#             nn.Dropout(0.5),\n",
    "            nn.ReLU(),                      # activation\n",
    "            nn.MaxPool2d(2),    # choose max value in 2x2 area, output shape (16, 14, 14)\n",
    "        )\n",
    "        self.conv2 = nn.Sequential(         # input shape (16, 14, 14)\n",
    "            nn.Conv2d(32, 64, 2, 1, 1),     # output shape (32, 14, 14)\n",
    "#             nn.Dropout(0.5),\n",
    "            nn.ReLU(),                      # activation\n",
    "            nn.MaxPool2d(2),                # output shape (32, 7, 7)\n",
    "        )\n",
    "        self.conv3 = nn.Sequential(         # input shape (16, 14, 14)\n",
    "            nn.Conv2d(64, 128, 2, 1, 1),     # output shape (32, 14, 14)\n",
    "#             nn.Dropout(0.5),\n",
    "            nn.ReLU(),                      # activation\n",
    "            nn.MaxPool2d(2),                # output shape (32, 7, 7)\n",
    "        )\n",
    "        self.fc1 = nn.Linear(128 *2 * 2, 64)\n",
    "        self.fc2 = nn.Linear(64, 10)\n",
    "        self.out = nn.Linear(20,2)\n",
    "\n",
    "    def forward_once(self, x):\n",
    "        x = self.conv1(x)\n",
    "        x = self.conv2(x)\n",
    "        x = self.conv3(x)\n",
    "        x = x.view(x.size(0), -1)\n",
    "        x = self.fc1(x)\n",
    "        output = self.fc2(x)\n",
    "        return output,x\n",
    "    \n",
    "    def forward(self,x):\n",
    "        input1 = x.narrow(1,0,1)\n",
    "        input2 = x.narrow(1,1,1)\n",
    "        output1,last_layer1 = self.forward_once(input1)\n",
    "        output2,last_layer2 = self.forward_once(input2)\n",
    "        output = torch.cat([output1,output2],dim=1)\n",
    "        output = self.out(output).squeeze()\n",
    "        return output,output1,output2,last_layer1,last_layer2\n",
    "        \n",
    "cnn_siamese = CNN_Siamese()\n",
    "print(cnn_siamese)  # net architecture"
   ]
  },
  {
   "cell_type": "code",
   "execution_count": 207,
   "metadata": {
    "scrolled": true
   },
   "outputs": [
    {
     "name": "stdout",
     "output_type": "stream",
     "text": [
      "74836\n"
     ]
    }
   ],
   "source": [
    "pytorch_total_params = sum(p.numel() for p in cnn_siamese.parameters() if p.requires_grad)\n",
    "print(pytorch_total_params)"
   ]
  },
  {
   "cell_type": "code",
   "execution_count": 208,
   "metadata": {},
   "outputs": [],
   "source": [
    "# from torchsample.transforms import RandomTranslate\n",
    "# translate = RandomTranslate(translation_range=(0.3, 0.3))\n",
    "# translated_train = torch.zeros(1000, 2, 14, 14)\n",
    "# translated_test = torch.zeros(1000, 2, 14, 14)\n",
    "# for i in range(1000):\n",
    "#     translated_train[i,:,:,:] = translate(train_input[i,:,:,:])\n",
    "#     translated_test[i,:,:,:] = translate(test_input[i,:,:,:])"
   ]
  },
  {
   "cell_type": "code",
   "execution_count": 209,
   "metadata": {},
   "outputs": [],
   "source": [
    "train_input, train_target, train_classes, test_input, test_target, test_classes = helper.generate_pair_sets(1000)\n",
    "\n",
    "augumented_data = rotated_dataset(train_input, transform)\n",
    "shuffle_index = torch.randperm(1000)\n",
    "train_input = torch.cat((train_input,augumented_data.data),0)\n",
    "train_classes = torch.cat((train_classes, train_classes), 0)\n",
    "train_target = torch.cat((train_target, train_target), 0)\n",
    "\n",
    "train_input, train_classes, train_target = train_input[shuffle_index], train_classes[shuffle_index], train_target[shuffle_index]\n",
    "\n",
    "augumented_data = rotated_dataset(test_input, transform)\n",
    "shuffle_index = torch.randperm(1000)\n",
    "test_input = torch.cat((test_input,augumented_data.data),0)\n",
    "test_classes = torch.cat((test_classes, test_classes), 0)\n",
    "test_target = torch.cat((test_target, test_target), 0)\n",
    "test_input, test_classes, test_target = test_input[shuffle_index], test_classes[shuffle_index], test_target[shuffle_index]\n"
   ]
  },
  {
   "cell_type": "code",
   "execution_count": 217,
   "metadata": {
    "scrolled": true
   },
   "outputs": [
    {
     "ename": "RuntimeError",
     "evalue": "Expected object of scalar type Long but got scalar type Float for argument #2 'target'",
     "output_type": "error",
     "traceback": [
      "\u001b[0;31m---------------------------------------------------------------------------\u001b[0m",
      "\u001b[0;31mRuntimeError\u001b[0m                              Traceback (most recent call last)",
      "\u001b[0;32m<ipython-input-217-63a83f994d92>\u001b[0m in \u001b[0;36m<module>\u001b[0;34m\u001b[0m\n\u001b[0;32m----> 1\u001b[0;31m \u001b[0mcriterion\u001b[0m\u001b[0;34m(\u001b[0m\u001b[0moutput\u001b[0m\u001b[0;34m,\u001b[0m\u001b[0my_tr_target\u001b[0m\u001b[0;34m)\u001b[0m\u001b[0;34m\u001b[0m\u001b[0;34m\u001b[0m\u001b[0m\n\u001b[0m",
      "\u001b[0;32m/anaconda3/envs/dl/lib/python3.7/site-packages/torch/nn/modules/module.py\u001b[0m in \u001b[0;36m__call__\u001b[0;34m(self, *input, **kwargs)\u001b[0m\n\u001b[1;32m    487\u001b[0m             \u001b[0mresult\u001b[0m \u001b[0;34m=\u001b[0m \u001b[0mself\u001b[0m\u001b[0;34m.\u001b[0m\u001b[0m_slow_forward\u001b[0m\u001b[0;34m(\u001b[0m\u001b[0;34m*\u001b[0m\u001b[0minput\u001b[0m\u001b[0;34m,\u001b[0m \u001b[0;34m**\u001b[0m\u001b[0mkwargs\u001b[0m\u001b[0;34m)\u001b[0m\u001b[0;34m\u001b[0m\u001b[0;34m\u001b[0m\u001b[0m\n\u001b[1;32m    488\u001b[0m         \u001b[0;32melse\u001b[0m\u001b[0;34m:\u001b[0m\u001b[0;34m\u001b[0m\u001b[0;34m\u001b[0m\u001b[0m\n\u001b[0;32m--> 489\u001b[0;31m             \u001b[0mresult\u001b[0m \u001b[0;34m=\u001b[0m \u001b[0mself\u001b[0m\u001b[0;34m.\u001b[0m\u001b[0mforward\u001b[0m\u001b[0;34m(\u001b[0m\u001b[0;34m*\u001b[0m\u001b[0minput\u001b[0m\u001b[0;34m,\u001b[0m \u001b[0;34m**\u001b[0m\u001b[0mkwargs\u001b[0m\u001b[0;34m)\u001b[0m\u001b[0;34m\u001b[0m\u001b[0;34m\u001b[0m\u001b[0m\n\u001b[0m\u001b[1;32m    490\u001b[0m         \u001b[0;32mfor\u001b[0m \u001b[0mhook\u001b[0m \u001b[0;32min\u001b[0m \u001b[0mself\u001b[0m\u001b[0;34m.\u001b[0m\u001b[0m_forward_hooks\u001b[0m\u001b[0;34m.\u001b[0m\u001b[0mvalues\u001b[0m\u001b[0;34m(\u001b[0m\u001b[0;34m)\u001b[0m\u001b[0;34m:\u001b[0m\u001b[0;34m\u001b[0m\u001b[0;34m\u001b[0m\u001b[0m\n\u001b[1;32m    491\u001b[0m             \u001b[0mhook_result\u001b[0m \u001b[0;34m=\u001b[0m \u001b[0mhook\u001b[0m\u001b[0;34m(\u001b[0m\u001b[0mself\u001b[0m\u001b[0;34m,\u001b[0m \u001b[0minput\u001b[0m\u001b[0;34m,\u001b[0m \u001b[0mresult\u001b[0m\u001b[0;34m)\u001b[0m\u001b[0;34m\u001b[0m\u001b[0;34m\u001b[0m\u001b[0m\n",
      "\u001b[0;32m/anaconda3/envs/dl/lib/python3.7/site-packages/torch/nn/modules/loss.py\u001b[0m in \u001b[0;36mforward\u001b[0;34m(self, input, target)\u001b[0m\n\u001b[1;32m    902\u001b[0m     \u001b[0;32mdef\u001b[0m \u001b[0mforward\u001b[0m\u001b[0;34m(\u001b[0m\u001b[0mself\u001b[0m\u001b[0;34m,\u001b[0m \u001b[0minput\u001b[0m\u001b[0;34m,\u001b[0m \u001b[0mtarget\u001b[0m\u001b[0;34m)\u001b[0m\u001b[0;34m:\u001b[0m\u001b[0;34m\u001b[0m\u001b[0;34m\u001b[0m\u001b[0m\n\u001b[1;32m    903\u001b[0m         return F.cross_entropy(input, target, weight=self.weight,\n\u001b[0;32m--> 904\u001b[0;31m                                ignore_index=self.ignore_index, reduction=self.reduction)\n\u001b[0m\u001b[1;32m    905\u001b[0m \u001b[0;34m\u001b[0m\u001b[0m\n\u001b[1;32m    906\u001b[0m \u001b[0;34m\u001b[0m\u001b[0m\n",
      "\u001b[0;32m/anaconda3/envs/dl/lib/python3.7/site-packages/torch/nn/functional.py\u001b[0m in \u001b[0;36mcross_entropy\u001b[0;34m(input, target, weight, size_average, ignore_index, reduce, reduction)\u001b[0m\n\u001b[1;32m   1968\u001b[0m     \u001b[0;32mif\u001b[0m \u001b[0msize_average\u001b[0m \u001b[0;32mis\u001b[0m \u001b[0;32mnot\u001b[0m \u001b[0;32mNone\u001b[0m \u001b[0;32mor\u001b[0m \u001b[0mreduce\u001b[0m \u001b[0;32mis\u001b[0m \u001b[0;32mnot\u001b[0m \u001b[0;32mNone\u001b[0m\u001b[0;34m:\u001b[0m\u001b[0;34m\u001b[0m\u001b[0;34m\u001b[0m\u001b[0m\n\u001b[1;32m   1969\u001b[0m         \u001b[0mreduction\u001b[0m \u001b[0;34m=\u001b[0m \u001b[0m_Reduction\u001b[0m\u001b[0;34m.\u001b[0m\u001b[0mlegacy_get_string\u001b[0m\u001b[0;34m(\u001b[0m\u001b[0msize_average\u001b[0m\u001b[0;34m,\u001b[0m \u001b[0mreduce\u001b[0m\u001b[0;34m)\u001b[0m\u001b[0;34m\u001b[0m\u001b[0;34m\u001b[0m\u001b[0m\n\u001b[0;32m-> 1970\u001b[0;31m     \u001b[0;32mreturn\u001b[0m \u001b[0mnll_loss\u001b[0m\u001b[0;34m(\u001b[0m\u001b[0mlog_softmax\u001b[0m\u001b[0;34m(\u001b[0m\u001b[0minput\u001b[0m\u001b[0;34m,\u001b[0m \u001b[0;36m1\u001b[0m\u001b[0;34m)\u001b[0m\u001b[0;34m,\u001b[0m \u001b[0mtarget\u001b[0m\u001b[0;34m,\u001b[0m \u001b[0mweight\u001b[0m\u001b[0;34m,\u001b[0m \u001b[0;32mNone\u001b[0m\u001b[0;34m,\u001b[0m \u001b[0mignore_index\u001b[0m\u001b[0;34m,\u001b[0m \u001b[0;32mNone\u001b[0m\u001b[0;34m,\u001b[0m \u001b[0mreduction\u001b[0m\u001b[0;34m)\u001b[0m\u001b[0;34m\u001b[0m\u001b[0;34m\u001b[0m\u001b[0m\n\u001b[0m\u001b[1;32m   1971\u001b[0m \u001b[0;34m\u001b[0m\u001b[0m\n\u001b[1;32m   1972\u001b[0m \u001b[0;34m\u001b[0m\u001b[0m\n",
      "\u001b[0;32m/anaconda3/envs/dl/lib/python3.7/site-packages/torch/nn/functional.py\u001b[0m in \u001b[0;36mnll_loss\u001b[0;34m(input, target, weight, size_average, ignore_index, reduce, reduction)\u001b[0m\n\u001b[1;32m   1788\u001b[0m                          .format(input.size(0), target.size(0)))\n\u001b[1;32m   1789\u001b[0m     \u001b[0;32mif\u001b[0m \u001b[0mdim\u001b[0m \u001b[0;34m==\u001b[0m \u001b[0;36m2\u001b[0m\u001b[0;34m:\u001b[0m\u001b[0;34m\u001b[0m\u001b[0;34m\u001b[0m\u001b[0m\n\u001b[0;32m-> 1790\u001b[0;31m         \u001b[0mret\u001b[0m \u001b[0;34m=\u001b[0m \u001b[0mtorch\u001b[0m\u001b[0;34m.\u001b[0m\u001b[0m_C\u001b[0m\u001b[0;34m.\u001b[0m\u001b[0m_nn\u001b[0m\u001b[0;34m.\u001b[0m\u001b[0mnll_loss\u001b[0m\u001b[0;34m(\u001b[0m\u001b[0minput\u001b[0m\u001b[0;34m,\u001b[0m \u001b[0mtarget\u001b[0m\u001b[0;34m,\u001b[0m \u001b[0mweight\u001b[0m\u001b[0;34m,\u001b[0m \u001b[0m_Reduction\u001b[0m\u001b[0;34m.\u001b[0m\u001b[0mget_enum\u001b[0m\u001b[0;34m(\u001b[0m\u001b[0mreduction\u001b[0m\u001b[0;34m)\u001b[0m\u001b[0;34m,\u001b[0m \u001b[0mignore_index\u001b[0m\u001b[0;34m)\u001b[0m\u001b[0;34m\u001b[0m\u001b[0;34m\u001b[0m\u001b[0m\n\u001b[0m\u001b[1;32m   1791\u001b[0m     \u001b[0;32melif\u001b[0m \u001b[0mdim\u001b[0m \u001b[0;34m==\u001b[0m \u001b[0;36m4\u001b[0m\u001b[0;34m:\u001b[0m\u001b[0;34m\u001b[0m\u001b[0;34m\u001b[0m\u001b[0m\n\u001b[1;32m   1792\u001b[0m         \u001b[0mret\u001b[0m \u001b[0;34m=\u001b[0m \u001b[0mtorch\u001b[0m\u001b[0;34m.\u001b[0m\u001b[0m_C\u001b[0m\u001b[0;34m.\u001b[0m\u001b[0m_nn\u001b[0m\u001b[0;34m.\u001b[0m\u001b[0mnll_loss2d\u001b[0m\u001b[0;34m(\u001b[0m\u001b[0minput\u001b[0m\u001b[0;34m,\u001b[0m \u001b[0mtarget\u001b[0m\u001b[0;34m,\u001b[0m \u001b[0mweight\u001b[0m\u001b[0;34m,\u001b[0m \u001b[0m_Reduction\u001b[0m\u001b[0;34m.\u001b[0m\u001b[0mget_enum\u001b[0m\u001b[0;34m(\u001b[0m\u001b[0mreduction\u001b[0m\u001b[0;34m)\u001b[0m\u001b[0;34m,\u001b[0m \u001b[0mignore_index\u001b[0m\u001b[0;34m)\u001b[0m\u001b[0;34m\u001b[0m\u001b[0;34m\u001b[0m\u001b[0m\n",
      "\u001b[0;31mRuntimeError\u001b[0m: Expected object of scalar type Long but got scalar type Float for argument #2 'target'"
     ]
    }
   ],
   "source": [
    "criterion(output,y_tr_target)"
   ]
  },
  {
   "cell_type": "code",
   "execution_count": 220,
   "metadata": {},
   "outputs": [
    {
     "data": {
      "text/plain": [
       "torch.Size([100])"
      ]
     },
     "execution_count": 220,
     "metadata": {},
     "output_type": "execute_result"
    }
   ],
   "source": [
    "y_tr_class.narrow(1,0,1).squeeze().shape"
   ]
  },
  {
   "cell_type": "code",
   "execution_count": 226,
   "metadata": {},
   "outputs": [
    {
     "data": {
      "text/plain": [
       "tensor([4, 1, 4, 9, 4, 7, 0, 4, 7, 9, 5, 9, 8, 6, 8, 7, 2, 2, 0, 5, 3, 2, 2, 3,\n",
       "        6, 6, 4, 4, 6, 0, 4, 6, 6, 8, 5, 1, 8, 6, 6, 5, 5, 2, 6, 7, 1, 0, 1, 3,\n",
       "        0, 3, 5, 7, 2, 8, 1, 7, 1, 4, 0, 9, 5, 1, 5, 9, 0, 1, 1, 0, 8, 8, 3, 4,\n",
       "        3, 6, 2, 7, 1, 6, 6, 0, 4, 6, 1, 0, 3, 5, 4, 2, 1, 8, 9, 2, 3, 4, 6, 4,\n",
       "        9, 9, 7, 7], dtype=torch.int32)"
      ]
     },
     "execution_count": 226,
     "metadata": {},
     "output_type": "execute_result"
    }
   ],
   "source": [
    "y_tr_class.narrow(1,0,1).squeeze().int()"
   ]
  },
  {
   "cell_type": "code",
   "execution_count": 227,
   "metadata": {},
   "outputs": [
    {
     "data": {
      "text/plain": [
       "tensor([0, 1, 0, 0, 1, 1, 1, 0, 0, 0, 1, 0, 0, 1, 0, 0, 1, 1, 1, 0, 1, 1, 1, 1,\n",
       "        0, 0, 0, 1, 1, 1, 1, 0, 1, 0, 0, 0, 0, 1, 0, 1, 0, 1, 1, 0, 0, 1, 1, 1,\n",
       "        1, 1, 1, 1, 1, 0, 1, 1, 1, 0, 1, 0, 0, 1, 1, 1, 1, 1, 1, 1, 1, 1, 1, 0,\n",
       "        1, 0, 1, 0, 1, 0, 0, 1, 1, 0, 1, 1, 1, 0, 1, 1, 1, 1, 0, 1, 0, 0, 1, 0,\n",
       "        0, 0, 0, 1])"
      ]
     },
     "execution_count": 227,
     "metadata": {},
     "output_type": "execute_result"
    }
   ],
   "source": [
    "train_target.narrow(0, b, mini_batch_size)"
   ]
  },
  {
   "cell_type": "code",
   "execution_count": 253,
   "metadata": {
    "scrolled": true
   },
   "outputs": [
    {
     "name": "stdout",
     "output_type": "stream",
     "text": [
      "Epoch:  0 | train loss: 5.5094 | train error: 0.41\n",
      "Epoch:  0 | test error: 0.43 \n",
      "\n",
      "\n",
      "Epoch:  1 | train loss: 4.8966 | train error: 0.39\n",
      "Epoch:  1 | test error: 0.42 \n",
      "\n",
      "\n",
      "Epoch:  2 | train loss: 3.5834 | train error: 0.40\n",
      "Epoch:  2 | test error: 0.43 \n",
      "\n",
      "\n",
      "Epoch:  3 | train loss: 2.4093 | train error: 0.35\n",
      "Epoch:  3 | test error: 0.38 \n",
      "\n",
      "\n",
      "Epoch:  4 | train loss: 1.6804 | train error: 0.29\n",
      "Epoch:  4 | test error: 0.34 \n",
      "\n",
      "\n",
      "Epoch:  5 | train loss: 1.2847 | train error: 0.27\n",
      "Epoch:  5 | test error: 0.31 \n",
      "\n",
      "\n",
      "Epoch:  6 | train loss: 1.0018 | train error: 0.24\n",
      "Epoch:  6 | test error: 0.27 \n",
      "\n",
      "\n",
      "Epoch:  7 | train loss: 0.9962 | train error: 0.22\n",
      "Epoch:  7 | test error: 0.24 \n",
      "\n",
      "\n",
      "Epoch:  8 | train loss: 0.8047 | train error: 0.21\n",
      "Epoch:  8 | test error: 0.24 \n",
      "\n",
      "\n",
      "Epoch:  9 | train loss: 0.7350 | train error: 0.18\n",
      "Epoch:  9 | test error: 0.22 \n",
      "\n",
      "\n",
      "Epoch:  10 | train loss: 0.7115 | train error: 0.17\n",
      "Epoch:  10 | test error: 0.20 \n",
      "\n",
      "\n",
      "Epoch:  11 | train loss: 0.6461 | train error: 0.17\n",
      "Epoch:  11 | test error: 0.20 \n",
      "\n",
      "\n",
      "Epoch:  12 | train loss: 0.5989 | train error: 0.15\n",
      "Epoch:  12 | test error: 0.19 \n",
      "\n",
      "\n",
      "Epoch:  13 | train loss: 0.5827 | train error: 0.15\n",
      "Epoch:  13 | test error: 0.19 \n",
      "\n",
      "\n",
      "Epoch:  14 | train loss: 0.6026 | train error: 0.14\n",
      "Epoch:  14 | test error: 0.18 \n",
      "\n",
      "\n",
      "Epoch:  15 | train loss: 0.4642 | train error: 0.13\n",
      "Epoch:  15 | test error: 0.18 \n",
      "\n",
      "\n",
      "Epoch:  16 | train loss: 0.4644 | train error: 0.13\n",
      "Epoch:  16 | test error: 0.19 \n",
      "\n",
      "\n",
      "Epoch:  17 | train loss: 0.3810 | train error: 0.11\n",
      "Epoch:  17 | test error: 0.17 \n",
      "\n",
      "\n",
      "Epoch:  18 | train loss: 0.3815 | train error: 0.10\n",
      "Epoch:  18 | test error: 0.17 \n",
      "\n",
      "\n",
      "Epoch:  19 | train loss: 0.3193 | train error: 0.08\n",
      "Epoch:  19 | test error: 0.16 \n",
      "\n",
      "\n",
      "Epoch:  20 | train loss: 0.4010 | train error: 0.10\n",
      "Epoch:  20 | test error: 0.17 \n",
      "\n",
      "\n",
      "Epoch:  21 | train loss: 0.3004 | train error: 0.10\n",
      "Epoch:  21 | test error: 0.17 \n",
      "\n",
      "\n",
      "Epoch:  22 | train loss: 0.5213 | train error: 0.09\n",
      "Epoch:  22 | test error: 0.16 \n",
      "\n",
      "\n",
      "Epoch:  23 | train loss: 0.4287 | train error: 0.09\n",
      "Epoch:  23 | test error: 0.17 \n",
      "\n",
      "\n",
      "Epoch:  24 | train loss: 0.3092 | train error: 0.09\n",
      "Epoch:  24 | test error: 0.18 \n",
      "\n",
      "\n",
      "Epoch:  25 | train loss: 0.2519 | train error: 0.10\n",
      "Epoch:  25 | test error: 0.18 \n",
      "\n",
      "\n",
      "Epoch:  26 | train loss: 0.3996 | train error: 0.07\n",
      "Epoch:  26 | test error: 0.18 \n",
      "\n",
      "\n",
      "Epoch:  27 | train loss: 0.3321 | train error: 0.06\n",
      "Epoch:  27 | test error: 0.17 \n",
      "\n",
      "\n",
      "Epoch:  28 | train loss: 0.2655 | train error: 0.07\n",
      "Epoch:  28 | test error: 0.16 \n",
      "\n",
      "\n",
      "Epoch:  29 | train loss: 0.2449 | train error: 0.06\n",
      "Epoch:  29 | test error: 0.17 \n",
      "\n",
      "\n",
      "Epoch:  30 | train loss: 0.3155 | train error: 0.07\n",
      "Epoch:  30 | test error: 0.18 \n",
      "\n",
      "\n",
      "Epoch:  31 | train loss: 0.2770 | train error: 0.04\n",
      "Epoch:  31 | test error: 0.17 \n",
      "\n",
      "\n",
      "Epoch:  32 | train loss: 0.2318 | train error: 0.04\n",
      "Epoch:  32 | test error: 0.17 \n",
      "\n",
      "\n",
      "Epoch:  33 | train loss: 0.1890 | train error: 0.05\n",
      "Epoch:  33 | test error: 0.17 \n",
      "\n",
      "\n",
      "Epoch:  34 | train loss: 0.3352 | train error: 0.08\n",
      "Epoch:  34 | test error: 0.17 \n",
      "\n",
      "\n",
      "Epoch:  35 | train loss: 0.1771 | train error: 0.05\n",
      "Epoch:  35 | test error: 0.16 \n",
      "\n",
      "\n",
      "Epoch:  36 | train loss: 0.1381 | train error: 0.05\n",
      "Epoch:  36 | test error: 0.17 \n",
      "\n",
      "\n",
      "Epoch:  37 | train loss: 0.1657 | train error: 0.04\n",
      "Epoch:  37 | test error: 0.17 \n",
      "\n",
      "\n",
      "Epoch:  38 | train loss: 0.2724 | train error: 0.04\n",
      "Epoch:  38 | test error: 0.17 \n",
      "\n",
      "\n",
      "Epoch:  39 | train loss: 0.1391 | train error: 0.05\n",
      "Epoch:  39 | test error: 0.17 \n",
      "\n",
      "\n",
      "Epoch:  40 | train loss: 0.1256 | train error: 0.06\n",
      "Epoch:  40 | test error: 0.18 \n",
      "\n",
      "\n",
      "Epoch:  41 | train loss: 0.2268 | train error: 0.06\n",
      "Epoch:  41 | test error: 0.17 \n",
      "\n",
      "\n",
      "Epoch:  42 | train loss: 0.2321 | train error: 0.05\n",
      "Epoch:  42 | test error: 0.18 \n",
      "\n",
      "\n",
      "Epoch:  43 | train loss: 0.2494 | train error: 0.05\n",
      "Epoch:  43 | test error: 0.17 \n",
      "\n",
      "\n",
      "Epoch:  44 | train loss: 0.2552 | train error: 0.05\n",
      "Epoch:  44 | test error: 0.17 \n",
      "\n",
      "\n",
      "Epoch:  45 | train loss: 0.3236 | train error: 0.06\n",
      "Epoch:  45 | test error: 0.18 \n",
      "\n",
      "\n",
      "Epoch:  46 | train loss: 0.3489 | train error: 0.04\n",
      "Epoch:  46 | test error: 0.18 \n",
      "\n",
      "\n",
      "Epoch:  47 | train loss: 0.1858 | train error: 0.06\n",
      "Epoch:  47 | test error: 0.19 \n",
      "\n",
      "\n",
      "Epoch:  48 | train loss: 0.1556 | train error: 0.04\n",
      "Epoch:  48 | test error: 0.17 \n",
      "\n",
      "\n",
      "Epoch:  49 | train loss: 0.2360 | train error: 0.03\n",
      "Epoch:  49 | test error: 0.17 \n",
      "\n",
      "\n"
     ]
    }
   ],
   "source": [
    "model = CNN_Siamese()\n",
    "\n",
    "mini_batch_size=100\n",
    "EPOCH = 25\n",
    "LR = 0.005              # learning rate\n",
    "\n",
    "optimizer = torch.optim.Adam(model.parameters(), lr=LR)   # optimize all cnn parameters\n",
    "criterion = nn.CrossEntropyLoss()                       # the target label is not one-hotted\n",
    "# criterion2 = nn.BCEWithLogitsLoss()\n",
    "\n",
    "for epoch in range(EPOCH):\n",
    "    for b in range(0, train_input.size(0), mini_batch_size):   # gives batch data, normalize x when iterate train_loader\n",
    "        \n",
    "        x_tr = train_input.narrow(0, b, mini_batch_size)\n",
    "        y_tr_class = train_classes.narrow(0, b, mini_batch_size)\n",
    "        y_tr_target = train_target.narrow(0, b, mini_batch_size)#.float()\n",
    "        x_tr = Variable(x_tr)   # batch x\n",
    "        y_tr_class = Variable(y_tr_class)   # batch y\n",
    "        \n",
    "        output,output1,output2,last_layer1,last_layer2 = model(x_tr)               # cnn output\n",
    "#         loss = criterion(output1, y_tr_class.narrow(1,0,1).squeeze())+criterion(output2, y_tr_class.narrow(1,1,1).squeeze())+criterion2(output,y_tr_target)   # cross entropy loss\n",
    "        loss = criterion(output1, y_tr_class.narrow(1,0,1).squeeze())+criterion(output2, y_tr_class.narrow(1,1,1).squeeze())+criterion(output,y_tr_target)   # cross entropy loss\n",
    "    \n",
    "        optimizer.zero_grad()           # clear gradients for this training step\n",
    "        loss.backward()                 # backpropagation, compute gradients\n",
    "        optimizer.step()                # apply gradients\n",
    "    \n",
    "    train_error = compute_nb_errors(model, train_input, train_target, mini_batch_size)\n",
    "    test_error = compute_nb_errors(model, test_input, test_target, mini_batch_size)\n",
    "    \n",
    "    print('Epoch: ', epoch, '| train loss: %.4f' % loss.data.item(), '| train error: %.2f' % train_error)\n",
    "    print('Epoch: ', epoch, '| test error: %.2f' % test_error,'\\n\\n')\n"
   ]
  },
  {
   "cell_type": "code",
   "execution_count": 254,
   "metadata": {},
   "outputs": [
    {
     "data": {
      "image/png": "[encoded data removed]",
      "text/plain": [
       "<Figure size 432x288 with 1 Axes>"
      ]
     },
     "metadata": {
      "needs_background": "light"
     },
     "output_type": "display_data"
    }
   ],
   "source": [
    "# following function (plot_with_labels) is for visualization, can be ignored if not interested\n",
    "from matplotlib import cm\n",
    "from sklearn.manifold import TSNE\n",
    "\n",
    "def plot_with_labels(lowDWeights, labels):\n",
    "    plt.cla()\n",
    "    X, Y = lowDWeights[:, 0], lowDWeights[:, 1]\n",
    "    for x, y, s in zip(X, Y, labels):\n",
    "        c = cm.rainbow(int(255 * s / 9)); plt.text(x, y, s, backgroundcolor=c, fontsize=9)\n",
    "    plt.xlim(X.min(), X.max()); plt.ylim(Y.min(), Y.max()); plt.title('Visualize last layer'); plt.show(); plt.pause(0.01)\n",
    "\n",
    "plt.ion()\n",
    "\n",
    "tsne = TSNE(perplexity=30, n_components=2, init='pca', n_iter=5000)\n",
    "plot_only = 500\n",
    "low_dim_embs = tsne.fit_transform(last_layer1.data.numpy()[:plot_only, :])\n",
    "labels = y_tr_class.narrow(1,0,1).squeeze().numpy()[:plot_only]\n",
    "plot_with_labels(low_dim_embs, labels)\n",
    "plt.ioff()\n"
   ]
  },
  {
   "cell_type": "code",
   "execution_count": null,
   "metadata": {},
   "outputs": [],
   "source": []
  }
 ],
 "metadata": {
  "kernelspec": {
   "display_name": "Python (dl)",
   "language": "python",
   "name": "dl"
  },
  "language_info": {
   "codemirror_mode": {
    "name": "ipython",
    "version": 3
   },
   "file_extension": ".py",
   "mimetype": "text/x-python",
   "name": "python",
   "nbconvert_exporter": "python",
   "pygments_lexer": "ipython3",
   "version": "3.7.2"
  }
 },
 "nbformat": 4,
 "nbformat_minor": 2
}
